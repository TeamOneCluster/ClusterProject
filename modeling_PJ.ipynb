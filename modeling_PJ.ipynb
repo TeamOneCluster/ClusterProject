{
 "cells": [
  {
   "cell_type": "code",
   "execution_count": 60,
   "id": "b2e5c78a",
   "metadata": {},
   "outputs": [],
   "source": [
    "import warnings\n",
    "warnings.filterwarnings(\"ignore\")\n",
    "\n",
    "# Wrangling\n",
    "import pandas as pd\n",
    "import numpy as np\n",
    "from sklearn.model_selection import train_test_split\n",
    "\n",
    "# Visualizing\n",
    "import matplotlib.pyplot as plt\n",
    "import seaborn as sns\n",
    "from datetime import date\n",
    "\n",
    "import acquire_PJ\n",
    "\n",
    "\n",
    "# Sklearn Cluster and Scaler \n",
    "from sklearn.cluster import KMeans\n",
    "from sklearn.preprocessing import MinMaxScaler, RobustScaler\n",
    "\n",
    "# Tests RFE, REGRESSION MODEL\n",
    "from sklearn.feature_selection import SelectKBest, f_regression, RFE\n",
    "from sklearn.linear_model import LinearRegression\n",
    "import sklearn.preprocessing\n",
    "\n",
    "\n",
    "# Other Models\n",
    "from sklearn.linear_model import LassoLars, TweedieRegressor\n",
    "from sklearn.preprocessing import PolynomialFeatures\n",
    "\n",
    "import scipy.stats as stats\n",
    "from scipy.stats import pearsonr, spearmanr\n",
    "\n",
    "\n",
    "# rmse to check baseline and model\n",
    "from sklearn.metrics import mean_squared_error"
   ]
  },
  {
   "cell_type": "code",
   "execution_count": 61,
   "id": "8498ae68",
   "metadata": {},
   "outputs": [
    {
     "data": {
      "text/html": [
       "<div>\n",
       "<style scoped>\n",
       "    .dataframe tbody tr th:only-of-type {\n",
       "        vertical-align: middle;\n",
       "    }\n",
       "\n",
       "    .dataframe tbody tr th {\n",
       "        vertical-align: top;\n",
       "    }\n",
       "\n",
       "    .dataframe thead th {\n",
       "        text-align: right;\n",
       "    }\n",
       "</style>\n",
       "<table border=\"1\" class=\"dataframe\">\n",
       "  <thead>\n",
       "    <tr style=\"text-align: right;\">\n",
       "      <th></th>\n",
       "      <th>Unnamed: 0</th>\n",
       "      <th>id</th>\n",
       "      <th>parcelid</th>\n",
       "      <th>airconditioningtypeid</th>\n",
       "      <th>architecturalstyletypeid</th>\n",
       "      <th>basementsqft</th>\n",
       "      <th>bathroomcnt</th>\n",
       "      <th>bedroomcnt</th>\n",
       "      <th>buildingclasstypeid</th>\n",
       "      <th>buildingqualitytypeid</th>\n",
       "      <th>...</th>\n",
       "      <th>censustractandblock</th>\n",
       "      <th>logerror</th>\n",
       "      <th>transactiondate</th>\n",
       "      <th>airconditioningdesc</th>\n",
       "      <th>architecturalstyledesc</th>\n",
       "      <th>buildingclassdesc</th>\n",
       "      <th>heatingorsystemdesc</th>\n",
       "      <th>propertylandusedesc</th>\n",
       "      <th>storydesc</th>\n",
       "      <th>typeconstructiondesc</th>\n",
       "    </tr>\n",
       "  </thead>\n",
       "  <tbody>\n",
       "    <tr>\n",
       "      <th>0</th>\n",
       "      <td>0</td>\n",
       "      <td>1727539</td>\n",
       "      <td>14297519</td>\n",
       "      <td>NaN</td>\n",
       "      <td>NaN</td>\n",
       "      <td>NaN</td>\n",
       "      <td>3.5</td>\n",
       "      <td>4.0</td>\n",
       "      <td>NaN</td>\n",
       "      <td>NaN</td>\n",
       "      <td>...</td>\n",
       "      <td>6.059063e+13</td>\n",
       "      <td>0.025595</td>\n",
       "      <td>2017-01-01</td>\n",
       "      <td>NaN</td>\n",
       "      <td>NaN</td>\n",
       "      <td>NaN</td>\n",
       "      <td>NaN</td>\n",
       "      <td>Single Family Residential</td>\n",
       "      <td>NaN</td>\n",
       "      <td>NaN</td>\n",
       "    </tr>\n",
       "    <tr>\n",
       "      <th>1</th>\n",
       "      <td>1</td>\n",
       "      <td>1387261</td>\n",
       "      <td>17052889</td>\n",
       "      <td>NaN</td>\n",
       "      <td>NaN</td>\n",
       "      <td>NaN</td>\n",
       "      <td>1.0</td>\n",
       "      <td>2.0</td>\n",
       "      <td>NaN</td>\n",
       "      <td>NaN</td>\n",
       "      <td>...</td>\n",
       "      <td>6.111001e+13</td>\n",
       "      <td>0.055619</td>\n",
       "      <td>2017-01-01</td>\n",
       "      <td>NaN</td>\n",
       "      <td>NaN</td>\n",
       "      <td>NaN</td>\n",
       "      <td>NaN</td>\n",
       "      <td>Single Family Residential</td>\n",
       "      <td>NaN</td>\n",
       "      <td>NaN</td>\n",
       "    </tr>\n",
       "    <tr>\n",
       "      <th>2</th>\n",
       "      <td>2</td>\n",
       "      <td>11677</td>\n",
       "      <td>14186244</td>\n",
       "      <td>NaN</td>\n",
       "      <td>NaN</td>\n",
       "      <td>NaN</td>\n",
       "      <td>2.0</td>\n",
       "      <td>3.0</td>\n",
       "      <td>NaN</td>\n",
       "      <td>NaN</td>\n",
       "      <td>...</td>\n",
       "      <td>6.059022e+13</td>\n",
       "      <td>0.005383</td>\n",
       "      <td>2017-01-01</td>\n",
       "      <td>NaN</td>\n",
       "      <td>NaN</td>\n",
       "      <td>NaN</td>\n",
       "      <td>NaN</td>\n",
       "      <td>Single Family Residential</td>\n",
       "      <td>NaN</td>\n",
       "      <td>NaN</td>\n",
       "    </tr>\n",
       "    <tr>\n",
       "      <th>3</th>\n",
       "      <td>3</td>\n",
       "      <td>2288172</td>\n",
       "      <td>12177905</td>\n",
       "      <td>NaN</td>\n",
       "      <td>NaN</td>\n",
       "      <td>NaN</td>\n",
       "      <td>3.0</td>\n",
       "      <td>4.0</td>\n",
       "      <td>NaN</td>\n",
       "      <td>8.0</td>\n",
       "      <td>...</td>\n",
       "      <td>6.037300e+13</td>\n",
       "      <td>-0.103410</td>\n",
       "      <td>2017-01-01</td>\n",
       "      <td>NaN</td>\n",
       "      <td>NaN</td>\n",
       "      <td>NaN</td>\n",
       "      <td>Central</td>\n",
       "      <td>Single Family Residential</td>\n",
       "      <td>NaN</td>\n",
       "      <td>NaN</td>\n",
       "    </tr>\n",
       "    <tr>\n",
       "      <th>4</th>\n",
       "      <td>4</td>\n",
       "      <td>1970746</td>\n",
       "      <td>10887214</td>\n",
       "      <td>1.0</td>\n",
       "      <td>NaN</td>\n",
       "      <td>NaN</td>\n",
       "      <td>3.0</td>\n",
       "      <td>3.0</td>\n",
       "      <td>NaN</td>\n",
       "      <td>8.0</td>\n",
       "      <td>...</td>\n",
       "      <td>6.037124e+13</td>\n",
       "      <td>0.006940</td>\n",
       "      <td>2017-01-01</td>\n",
       "      <td>Central</td>\n",
       "      <td>NaN</td>\n",
       "      <td>NaN</td>\n",
       "      <td>Central</td>\n",
       "      <td>Condominium</td>\n",
       "      <td>NaN</td>\n",
       "      <td>NaN</td>\n",
       "    </tr>\n",
       "  </tbody>\n",
       "</table>\n",
       "<p>5 rows × 69 columns</p>\n",
       "</div>"
      ],
      "text/plain": [
       "   Unnamed: 0       id  parcelid  airconditioningtypeid  \\\n",
       "0           0  1727539  14297519                    NaN   \n",
       "1           1  1387261  17052889                    NaN   \n",
       "2           2    11677  14186244                    NaN   \n",
       "3           3  2288172  12177905                    NaN   \n",
       "4           4  1970746  10887214                    1.0   \n",
       "\n",
       "   architecturalstyletypeid  basementsqft  bathroomcnt  bedroomcnt  \\\n",
       "0                       NaN           NaN          3.5         4.0   \n",
       "1                       NaN           NaN          1.0         2.0   \n",
       "2                       NaN           NaN          2.0         3.0   \n",
       "3                       NaN           NaN          3.0         4.0   \n",
       "4                       NaN           NaN          3.0         3.0   \n",
       "\n",
       "   buildingclasstypeid  buildingqualitytypeid  ...  censustractandblock  \\\n",
       "0                  NaN                    NaN  ...         6.059063e+13   \n",
       "1                  NaN                    NaN  ...         6.111001e+13   \n",
       "2                  NaN                    NaN  ...         6.059022e+13   \n",
       "3                  NaN                    8.0  ...         6.037300e+13   \n",
       "4                  NaN                    8.0  ...         6.037124e+13   \n",
       "\n",
       "   logerror  transactiondate  airconditioningdesc  architecturalstyledesc  \\\n",
       "0  0.025595       2017-01-01                  NaN                     NaN   \n",
       "1  0.055619       2017-01-01                  NaN                     NaN   \n",
       "2  0.005383       2017-01-01                  NaN                     NaN   \n",
       "3 -0.103410       2017-01-01                  NaN                     NaN   \n",
       "4  0.006940       2017-01-01              Central                     NaN   \n",
       "\n",
       "   buildingclassdesc  heatingorsystemdesc        propertylandusedesc  \\\n",
       "0                NaN                  NaN  Single Family Residential   \n",
       "1                NaN                  NaN  Single Family Residential   \n",
       "2                NaN                  NaN  Single Family Residential   \n",
       "3                NaN              Central  Single Family Residential   \n",
       "4                NaN              Central                Condominium   \n",
       "\n",
       "   storydesc  typeconstructiondesc  \n",
       "0        NaN                   NaN  \n",
       "1        NaN                   NaN  \n",
       "2        NaN                   NaN  \n",
       "3        NaN                   NaN  \n",
       "4        NaN                   NaN  \n",
       "\n",
       "[5 rows x 69 columns]"
      ]
     },
     "execution_count": 61,
     "metadata": {},
     "output_type": "execute_result"
    }
   ],
   "source": [
    "zillow_df = acquire_PJ.get_zillow_data()\n",
    "zillow_df.head()"
   ]
  },
  {
   "cell_type": "code",
   "execution_count": 62,
   "id": "f08c7164",
   "metadata": {},
   "outputs": [],
   "source": [
    "# Create a function that will remove rows and columns that have missing values past a certain threshold.\n",
    "def handle_missing_values(df, p_row = 0.84, p_col = 0.84):\n",
    "    ''' function which takes in a dataframe, required notnull proportions of non-null rows and columns.\n",
    "    drop the columns and rows columns based on theshold:'''\n",
    "    \n",
    "    #drop columns with nulls\n",
    "    threshold = int(p_col * len(df.index)) # Require that many non-NA values.\n",
    "    df.dropna(axis = 1, thresh = threshold, inplace = True)\n",
    "    \n",
    "    #drop rows with nulls\n",
    "    threshold = int(p_row * len(df.columns)) # Require that many non-NA values.\n",
    "    df.dropna(axis = 0, thresh = threshold, inplace = True)\n",
    "    \n",
    "    \n",
    "    return df"
   ]
  },
  {
   "cell_type": "code",
   "execution_count": 63,
   "id": "30569405",
   "metadata": {},
   "outputs": [],
   "source": [
    "zillow_df = handle_missing_values(zillow_df)"
   ]
  },
  {
   "cell_type": "code",
   "execution_count": 64,
   "id": "85b6cca2",
   "metadata": {},
   "outputs": [],
   "source": [
    "# Create a list of columns to drop.\n",
    "columns_to_drop = ['transactiondate','assessmentyear','id','Unnamed: 0','parcelid','calculatedbathnbr'\n",
    "                   ,'finishedsquarefeet12','fullbathcnt','propertycountylandusecode','propertylandusetypeid',\n",
    "                   'rawcensustractandblock','regionidcity','regionidcounty','regionidzip',\n",
    "                   'structuretaxvaluedollarcnt','censustractandblock','propertylandusedesc', 'roomcnt']\n",
    "\n"
   ]
  },
  {
   "cell_type": "code",
   "execution_count": 65,
   "id": "9857f0cf",
   "metadata": {},
   "outputs": [],
   "source": [
    "def drop_columns(df, drop_col):\n",
    "    df = df.drop(columns=drop_col)\n",
    "    return df"
   ]
  },
  {
   "cell_type": "code",
   "execution_count": 66,
   "id": "81828584",
   "metadata": {},
   "outputs": [],
   "source": [
    "zillow_df = drop_columns(zillow_df, columns_to_drop)"
   ]
  },
  {
   "cell_type": "code",
   "execution_count": 67,
   "id": "e4ffb3f0",
   "metadata": {},
   "outputs": [],
   "source": [
    "for col in zillow_df.columns:\n",
    "    if zillow_df[col].isna().sum() > 0:\n",
    "        zillow_df[col] = zillow_df[col].fillna(value = zillow_df[col].mean())\n",
    "        #print(zillow_df[col])"
   ]
  },
  {
   "cell_type": "code",
   "execution_count": 68,
   "id": "c92719dd",
   "metadata": {},
   "outputs": [],
   "source": [
    "zillow_df = zillow_df.rename(columns = {'fips':'county', 'calculatedfinishedsquarefeet' : 'area', 'bathroomcnt' : 'bathrooms',\n",
    "                         'bedroomcnt' : 'bedrooms', 'poolcnt' : 'pools', 'garagecarcnt' : 'garages',\n",
    "                          'taxvaluedollarcnt': 'tax_value'})"
   ]
  },
  {
   "cell_type": "code",
   "execution_count": 69,
   "id": "45190eb6",
   "metadata": {},
   "outputs": [],
   "source": [
    "# Cleaning the data\n",
    "# Creating counties\n",
    "zillow_df['LA_County']= zillow_df['county'] == 6037\n",
    "zillow_df['Orange_County']= zillow_df['county'] == 6059\n",
    "zillow_df['Ventura_County']= zillow_df['county'] == 6111\n",
    "\n",
    "\n",
    "zillow_df['LA_County'] = zillow_df['LA_County'].replace(False, 0)\n",
    "zillow_df['LA_County'] = zillow_df['LA_County'].replace(True, 1)\n",
    "\n",
    "zillow_df['Orange_County'] = zillow_df['Orange_County'].replace(False, 0)\n",
    "zillow_df['Orange_County'] = zillow_df['Orange_County'].replace(True, 1)\n",
    "\n",
    "zillow_df['Ventura_County'] = zillow_df['Ventura_County'].replace(False, 0)\n",
    "zillow_df['Ventura_County'] = zillow_df['Ventura_County'].replace(True, 1)"
   ]
  },
  {
   "cell_type": "code",
   "execution_count": 70,
   "id": "9db4955d",
   "metadata": {},
   "outputs": [],
   "source": [
    "def yearbuilt_years(df):\n",
    "    df.yearbuilt =  df.yearbuilt.astype(int)\n",
    "    year = date.today().year\n",
    "    df['age'] = year - df.yearbuilt\n",
    "    # dropping the 'yearbuilt' column now that i have the age\n",
    "    df = df.drop(columns=['yearbuilt'])\n",
    "    return df"
   ]
  },
  {
   "cell_type": "code",
   "execution_count": 71,
   "id": "50bdb188",
   "metadata": {},
   "outputs": [],
   "source": [
    "zillow_df = yearbuilt_years(zillow_df)"
   ]
  },
  {
   "cell_type": "code",
   "execution_count": 72,
   "id": "e61393d4",
   "metadata": {},
   "outputs": [],
   "source": [
    "zillow_df = zillow_df[zillow_df.bedrooms != 0]\n",
    "zillow_df = zillow_df[zillow_df.bathrooms != 0]"
   ]
  },
  {
   "cell_type": "code",
   "execution_count": 74,
   "id": "d9cd8d8c",
   "metadata": {},
   "outputs": [],
   "source": [
    "# Later Lets look at pools and garages!\n",
    "# Create new features here\n",
    "\n",
    "zillow_df['acres']= zillow_df.lotsizesquarefeet/43560\n",
    "\n",
    "\n",
    "# ratio of bathrooms to bedrooms\n",
    "zillow_df['bed_bath_ratio'] = zillow_df.bedrooms / zillow_df.bathrooms\n",
    "\n",
    "# bin ages\n",
    "zillow_df['age_bins'] = pd.cut(zillow_df.age, \n",
    "                               bins = [0, 5, 10, 20, 30, 40, 50, 60, 70, 80, 90, 100, 110, 120, 130, 140],\n",
    "                               labels = [0, .066, .133, .20, .266, .333, .40, .466, .533, \n",
    "                                     .60, .666, .733, .8, .866, .933])\n",
    "\n",
    "# bin acres\n",
    "zillow_df['acres_bin'] = pd.cut(zillow_df.acres, bins = [0, .10, .15, .25, .5, 1, 5, 10, 20, 50, 200], \n",
    "                    labels = [0, .1, .2, .3, .4, .5, .6, .7, .8, .9])\n",
    "    \n",
    "\n",
    "#zillow_df['logerror_bins'] = pd.cut(zillow_df.logerror, bins = [-5, -3, -2, -1, -.05, 0, .05, 1, 2, 3, 4],\n",
    "#                                      labels = [0, .1, .2, .3, .4, .5, .6, .7, .8, .9])    \n",
    "\n",
    "\n",
    "zillow_df['land_dollar_per_sqft'] = zillow_df.landtaxvaluedollarcnt/zillow_df.lotsizesquarefeet\n",
    "\n",
    "zillow_df['lot_dollar_sqft_bin'] = pd.cut(zillow_df.land_dollar_per_sqft, bins = [0, 1, 5, 20, 50, 100, 250, 500, 1000, 1500, 2000],\n",
    "                                       labels = [0, .1, .2, .3, .4, .5, .6, .7, .8, .9]\n",
    "                                      )\n",
    "\n",
    "\n",
    "# update datatypes of binned values to be float\n",
    "#zillow_df = zillow_df.astype({'acres_bin': 'float64', 'age_bin': 'float64'}).dtypes\n",
    "zillow_df = zillow_df.astype({'acres_bin': float, 'age_bins': float, 'lot_dollar_sqft_bin' : float}) #'logerror_bins' : float"
   ]
  },
  {
   "cell_type": "code",
   "execution_count": null,
   "id": "0829f3d7",
   "metadata": {},
   "outputs": [],
   "source": []
  },
  {
   "cell_type": "code",
   "execution_count": null,
   "id": "a1d37bc3",
   "metadata": {},
   "outputs": [],
   "source": []
  },
  {
   "cell_type": "code",
   "execution_count": 218,
   "id": "518e0128",
   "metadata": {},
   "outputs": [
    {
     "data": {
      "text/plain": [
       "1        0.055619\n",
       "2        0.005383\n",
       "3       -0.103410\n",
       "5       -0.020526\n",
       "7        0.101723\n",
       "           ...   \n",
       "77564    0.319408\n",
       "77567    0.081196\n",
       "77568    0.001082\n",
       "77571    0.013209\n",
       "77573    0.007204\n",
       "Name: logerror, Length: 45647, dtype: float64"
      ]
     },
     "execution_count": 218,
     "metadata": {},
     "output_type": "execute_result"
    }
   ],
   "source": [
    "zillow_df.logerror"
   ]
  },
  {
   "cell_type": "code",
   "execution_count": 75,
   "id": "566833c4",
   "metadata": {},
   "outputs": [],
   "source": [
    "def remove_outliers(df, k, col_list):\n",
    "    ''' remove outliers from a list of columns in a dataframe \n",
    "        and return that dataframe\n",
    "    '''\n",
    "\n",
    "    for col in col_list:\n",
    "\n",
    "        q1, q3 = df[col].quantile([.25, .75])  # get quartiles\n",
    "        \n",
    "        iqr = q3 - q1   # calculate interquartile range\n",
    "        \n",
    "        upper_bound = q3 + k * iqr   # get upper bound\n",
    "        lower_bound = q1 - k * iqr   # get lower bound\n",
    "\n",
    "        # return dataframe without outliers\n",
    "        \n",
    "        df = df[(df[col] > lower_bound) & (df[col] < upper_bound)]\n",
    "        \n",
    "    return df"
   ]
  },
  {
   "cell_type": "code",
   "execution_count": 76,
   "id": "bccae182",
   "metadata": {},
   "outputs": [],
   "source": [
    "col_list = ['bedrooms', 'bathrooms', 'area', 'tax_value',\n",
    "            'lotsizesquarefeet', 'taxamount', 'age', 'acres',\n",
    "           'bed_bath_ratio', 'landtaxvaluedollarcnt']\n",
    "k = 1.5\n",
    "    \n",
    "zillow_df = remove_outliers(zillow_df, k, col_list)"
   ]
  },
  {
   "cell_type": "code",
   "execution_count": null,
   "id": "06afa209",
   "metadata": {},
   "outputs": [],
   "source": []
  },
  {
   "cell_type": "code",
   "execution_count": null,
   "id": "3475a4cc",
   "metadata": {},
   "outputs": [],
   "source": []
  },
  {
   "cell_type": "code",
   "execution_count": null,
   "id": "e5a9704b",
   "metadata": {},
   "outputs": [],
   "source": []
  },
  {
   "cell_type": "code",
   "execution_count": null,
   "id": "ad57f9cf",
   "metadata": {},
   "outputs": [],
   "source": []
  },
  {
   "cell_type": "code",
   "execution_count": 77,
   "id": "5e606911",
   "metadata": {},
   "outputs": [],
   "source": [
    "# Splitting my data\n",
    "def split(df, target_var):\n",
    "    \n",
    "    # split df into train_validate (80%) and test (20%)\n",
    "    train_validate, test = train_test_split(df, test_size=.20, random_state=13)\n",
    "    \n",
    "    # split train_validate into train(70% of 80% = 56%) and validate (30% of 80% = 24%)\n",
    "    train, validate = train_test_split(train_validate, test_size=.3, random_state=13)\n",
    "\n",
    "    # create X_train by dropping the target variable \n",
    "    X_train = train.drop(columns=[target_var])\n",
    "    # create y_train by keeping only the target variable.\n",
    "    y_train = train[[target_var]]\n",
    "\n",
    "    # create X_validate by dropping the target variable \n",
    "    X_validate = validate.drop(columns=[target_var])\n",
    "    # create y_validate by keeping only the target variable.\n",
    "    y_validate = validate[[target_var]]\n",
    "\n",
    "    # create X_test by dropping the target variable \n",
    "    X_test = test.drop(columns=[target_var])\n",
    "    # create y_test by keeping only the target variable.\n",
    "    y_test = test[[target_var]]\n",
    "\n",
    "    partitions = [train, X_train, y_train, validate, X_validate, y_validate, test, X_test, y_test]\n",
    "    return partitions"
   ]
  },
  {
   "cell_type": "code",
   "execution_count": 78,
   "id": "01c9e6f4",
   "metadata": {},
   "outputs": [],
   "source": [
    "partitions = split(zillow_df, target_var = 'logerror')"
   ]
  },
  {
   "cell_type": "code",
   "execution_count": 198,
   "id": "731dd9df",
   "metadata": {},
   "outputs": [
    {
     "data": {
      "text/plain": [
       "9"
      ]
     },
     "execution_count": 198,
     "metadata": {},
     "output_type": "execute_result"
    }
   ],
   "source": [
    "len(partitions)"
   ]
  },
  {
   "cell_type": "markdown",
   "id": "fff556a5",
   "metadata": {},
   "source": [
    "## Stats Tests"
   ]
  },
  {
   "cell_type": "code",
   "execution_count": 79,
   "id": "de4d3b53",
   "metadata": {},
   "outputs": [],
   "source": [
    "train = partitions[0]"
   ]
  },
  {
   "cell_type": "code",
   "execution_count": 80,
   "id": "739fbd35",
   "metadata": {},
   "outputs": [],
   "source": [
    "# Acres_bin hold a significance with logerror"
   ]
  },
  {
   "cell_type": "code",
   "execution_count": 40,
   "id": "2ba9d18e",
   "metadata": {},
   "outputs": [
    {
     "data": {
      "image/png": "[encoded data removed]",
      "text/plain": [
       "<Figure size 432x288 with 1 Axes>"
      ]
     },
     "metadata": {
      "needs_background": "light"
     },
     "output_type": "display_data"
    }
   ],
   "source": [
    "sns.barplot(x = 'acres_bin', y = 'logerror', data = train)\n",
    "population_logerror_mean = train.logerror.mean()\n",
    "plt.axhline(population_logerror_mean)\n",
    "plt.show()"
   ]
  },
  {
   "cell_type": "code",
   "execution_count": 45,
   "id": "63f219f7",
   "metadata": {},
   "outputs": [
    {
     "data": {
      "text/html": [
       "<div>\n",
       "<style scoped>\n",
       "    .dataframe tbody tr th:only-of-type {\n",
       "        vertical-align: middle;\n",
       "    }\n",
       "\n",
       "    .dataframe tbody tr th {\n",
       "        vertical-align: top;\n",
       "    }\n",
       "\n",
       "    .dataframe thead th {\n",
       "        text-align: right;\n",
       "    }\n",
       "</style>\n",
       "<table border=\"1\" class=\"dataframe\">\n",
       "  <thead>\n",
       "    <tr style=\"text-align: right;\">\n",
       "      <th></th>\n",
       "      <th>bathrooms</th>\n",
       "      <th>bedrooms</th>\n",
       "      <th>area</th>\n",
       "      <th>county</th>\n",
       "      <th>latitude</th>\n",
       "      <th>longitude</th>\n",
       "      <th>lotsizesquarefeet</th>\n",
       "      <th>tax_value</th>\n",
       "      <th>landtaxvaluedollarcnt</th>\n",
       "      <th>taxamount</th>\n",
       "      <th>logerror</th>\n",
       "      <th>LA_County</th>\n",
       "      <th>Orange_County</th>\n",
       "      <th>Ventura_County</th>\n",
       "      <th>age</th>\n",
       "      <th>acres</th>\n",
       "      <th>bed_bath_ratio</th>\n",
       "      <th>age_bins</th>\n",
       "      <th>acres_bin</th>\n",
       "    </tr>\n",
       "  </thead>\n",
       "  <tbody>\n",
       "    <tr>\n",
       "      <th>62952</th>\n",
       "      <td>2.0</td>\n",
       "      <td>3.0</td>\n",
       "      <td>1910.0</td>\n",
       "      <td>6037.0</td>\n",
       "      <td>34141135.0</td>\n",
       "      <td>-118069733.0</td>\n",
       "      <td>14690.0</td>\n",
       "      <td>84943.0</td>\n",
       "      <td>34939.0</td>\n",
       "      <td>1358.67</td>\n",
       "      <td>-0.023357</td>\n",
       "      <td>1</td>\n",
       "      <td>0</td>\n",
       "      <td>0</td>\n",
       "      <td>87</td>\n",
       "      <td>0.337236</td>\n",
       "      <td>1.500000</td>\n",
       "      <td>0.600</td>\n",
       "      <td>0.3</td>\n",
       "    </tr>\n",
       "    <tr>\n",
       "      <th>18519</th>\n",
       "      <td>3.0</td>\n",
       "      <td>5.0</td>\n",
       "      <td>2965.0</td>\n",
       "      <td>6037.0</td>\n",
       "      <td>34116699.0</td>\n",
       "      <td>-118226054.0</td>\n",
       "      <td>5562.0</td>\n",
       "      <td>439333.0</td>\n",
       "      <td>292893.0</td>\n",
       "      <td>5438.55</td>\n",
       "      <td>0.114887</td>\n",
       "      <td>1</td>\n",
       "      <td>0</td>\n",
       "      <td>0</td>\n",
       "      <td>41</td>\n",
       "      <td>0.127686</td>\n",
       "      <td>1.666667</td>\n",
       "      <td>0.333</td>\n",
       "      <td>0.1</td>\n",
       "    </tr>\n",
       "    <tr>\n",
       "      <th>31433</th>\n",
       "      <td>3.0</td>\n",
       "      <td>3.0</td>\n",
       "      <td>2388.0</td>\n",
       "      <td>6037.0</td>\n",
       "      <td>33875945.0</td>\n",
       "      <td>-118355497.0</td>\n",
       "      <td>17419.0</td>\n",
       "      <td>350032.0</td>\n",
       "      <td>109462.0</td>\n",
       "      <td>4386.48</td>\n",
       "      <td>0.139967</td>\n",
       "      <td>1</td>\n",
       "      <td>0</td>\n",
       "      <td>0</td>\n",
       "      <td>33</td>\n",
       "      <td>0.399885</td>\n",
       "      <td>1.000000</td>\n",
       "      <td>0.266</td>\n",
       "      <td>0.3</td>\n",
       "    </tr>\n",
       "    <tr>\n",
       "      <th>2249</th>\n",
       "      <td>2.0</td>\n",
       "      <td>3.0</td>\n",
       "      <td>1353.0</td>\n",
       "      <td>6059.0</td>\n",
       "      <td>33858501.0</td>\n",
       "      <td>-117963533.0</td>\n",
       "      <td>6700.0</td>\n",
       "      <td>129412.0</td>\n",
       "      <td>71148.0</td>\n",
       "      <td>1748.20</td>\n",
       "      <td>-0.002537</td>\n",
       "      <td>0</td>\n",
       "      <td>1</td>\n",
       "      <td>0</td>\n",
       "      <td>67</td>\n",
       "      <td>0.153811</td>\n",
       "      <td>1.500000</td>\n",
       "      <td>0.466</td>\n",
       "      <td>0.2</td>\n",
       "    </tr>\n",
       "    <tr>\n",
       "      <th>24002</th>\n",
       "      <td>1.5</td>\n",
       "      <td>2.0</td>\n",
       "      <td>1024.0</td>\n",
       "      <td>6059.0</td>\n",
       "      <td>33842442.0</td>\n",
       "      <td>-117944157.0</td>\n",
       "      <td>1048.0</td>\n",
       "      <td>201596.0</td>\n",
       "      <td>146657.0</td>\n",
       "      <td>2601.14</td>\n",
       "      <td>-0.066029</td>\n",
       "      <td>0</td>\n",
       "      <td>1</td>\n",
       "      <td>0</td>\n",
       "      <td>58</td>\n",
       "      <td>0.024059</td>\n",
       "      <td>1.333333</td>\n",
       "      <td>0.400</td>\n",
       "      <td>0.0</td>\n",
       "    </tr>\n",
       "  </tbody>\n",
       "</table>\n",
       "</div>"
      ],
      "text/plain": [
       "       bathrooms  bedrooms    area  county    latitude    longitude  \\\n",
       "62952        2.0       3.0  1910.0  6037.0  34141135.0 -118069733.0   \n",
       "18519        3.0       5.0  2965.0  6037.0  34116699.0 -118226054.0   \n",
       "31433        3.0       3.0  2388.0  6037.0  33875945.0 -118355497.0   \n",
       "2249         2.0       3.0  1353.0  6059.0  33858501.0 -117963533.0   \n",
       "24002        1.5       2.0  1024.0  6059.0  33842442.0 -117944157.0   \n",
       "\n",
       "       lotsizesquarefeet  tax_value  landtaxvaluedollarcnt  taxamount  \\\n",
       "62952            14690.0    84943.0                34939.0    1358.67   \n",
       "18519             5562.0   439333.0               292893.0    5438.55   \n",
       "31433            17419.0   350032.0               109462.0    4386.48   \n",
       "2249              6700.0   129412.0                71148.0    1748.20   \n",
       "24002             1048.0   201596.0               146657.0    2601.14   \n",
       "\n",
       "       logerror  LA_County  Orange_County  Ventura_County  age     acres  \\\n",
       "62952 -0.023357          1              0               0   87  0.337236   \n",
       "18519  0.114887          1              0               0   41  0.127686   \n",
       "31433  0.139967          1              0               0   33  0.399885   \n",
       "2249  -0.002537          0              1               0   67  0.153811   \n",
       "24002 -0.066029          0              1               0   58  0.024059   \n",
       "\n",
       "       bed_bath_ratio  age_bins  acres_bin  \n",
       "62952        1.500000     0.600        0.3  \n",
       "18519        1.666667     0.333        0.1  \n",
       "31433        1.000000     0.266        0.3  \n",
       "2249         1.500000     0.466        0.2  \n",
       "24002        1.333333     0.400        0.0  "
      ]
     },
     "execution_count": 45,
     "metadata": {},
     "output_type": "execute_result"
    }
   ],
   "source": [
    "train.head()"
   ]
  },
  {
   "cell_type": "code",
   "execution_count": null,
   "id": "d63c83fa",
   "metadata": {},
   "outputs": [],
   "source": [
    "# unclear using pearsons r to see signifcance"
   ]
  },
  {
   "cell_type": "code",
   "execution_count": 57,
   "id": "ed53a38c",
   "metadata": {},
   "outputs": [
    {
     "name": "stdout",
     "output_type": "stream",
     "text": [
      "r:  -0.0013498620109291 p:  0.829141396438407\n"
     ]
    }
   ],
   "source": [
    "test_results = stats.pearsonr(train.logerror, train.acres_bin)\n",
    "r, p = test_results\n",
    "print(\"r: \", r, \"p: \", p)"
   ]
  },
  {
   "cell_type": "code",
   "execution_count": 83,
   "id": "13f14382",
   "metadata": {},
   "outputs": [
    {
     "name": "stdout",
     "output_type": "stream",
     "text": [
      "r:  0.01708583143516444 p:  0.006300548418552481\n"
     ]
    }
   ],
   "source": [
    "test_results = stats.pearsonr(train.logerror, train.area)\n",
    "r, p = test_results\n",
    "print(\"r: \", r, \"p: \", p)"
   ]
  },
  {
   "cell_type": "markdown",
   "id": "f9ea172d",
   "metadata": {},
   "source": [
    "# tax value hold a significance with logerror"
   ]
  },
  {
   "cell_type": "code",
   "execution_count": 50,
   "id": "a0322f9d",
   "metadata": {},
   "outputs": [
    {
     "data": {
      "text/plain": [
       "<Figure size 1152x576 with 0 Axes>"
      ]
     },
     "metadata": {},
     "output_type": "display_data"
    },
    {
     "data": {
      "image/png": "[encoded data removed]",
      "text/plain": [
       "<Figure size 360x360 with 1 Axes>"
      ]
     },
     "metadata": {
      "needs_background": "light"
     },
     "output_type": "display_data"
    }
   ],
   "source": [
    "#sns.scatterplot(x= train.tax_value, y= train.logerror)\n",
    "# population_logerror_mean = train.logerror.mean()\n",
    "#plt.axhline(population_logerror_mean)\n",
    "#plt.show()\n",
    "\n",
    "\n",
    "plt.figure(figsize=(16,8))\n",
    "sns.lmplot(data = train.sample(2000), x = 'tax_value', y = 'logerror',line_kws={'color': 'red'})\n",
    "plt.title(\"Scatter Plot of logerror and tax value\")\n",
    "plt.show()"
   ]
  },
  {
   "cell_type": "code",
   "execution_count": 44,
   "id": "46065ec7",
   "metadata": {},
   "outputs": [
    {
     "name": "stdout",
     "output_type": "stream",
     "text": [
      "r:  -0.03305615952081189 p:  1.2492339028107507e-07\n"
     ]
    }
   ],
   "source": [
    "test_results = stats.pearsonr(train.logerror, train.tax_value)\n",
    "r, p = test_results\n",
    "print(\"r: \", r, \"p: \", p)"
   ]
  },
  {
   "cell_type": "markdown",
   "id": "905b81e4",
   "metadata": {},
   "source": [
    "# bed_bath_ratio affect logerror?"
   ]
  },
  {
   "cell_type": "code",
   "execution_count": 51,
   "id": "cd2630c9",
   "metadata": {},
   "outputs": [
    {
     "data": {
      "text/plain": [
       "<Figure size 1152x576 with 0 Axes>"
      ]
     },
     "metadata": {},
     "output_type": "display_data"
    },
    {
     "data": {
      "image/png": "[encoded data removed]",
      "text/plain": [
       "<Figure size 360x360 with 1 Axes>"
      ]
     },
     "metadata": {
      "needs_background": "light"
     },
     "output_type": "display_data"
    }
   ],
   "source": [
    "plt.figure(figsize=(16,8))\n",
    "sns.lmplot(data = train.sample(2000), x = 'bed_bath_ratio', y = 'logerror',line_kws={'color': 'red'})\n",
    "plt.title(\"Scatter Plot of logerror and bed bath ratio\")\n",
    "plt.show()"
   ]
  },
  {
   "cell_type": "code",
   "execution_count": 53,
   "id": "a3971160",
   "metadata": {},
   "outputs": [
    {
     "data": {
      "image/png": "[encoded data removed]",
      "text/plain": [
       "<Figure size 1152x576 with 1 Axes>"
      ]
     },
     "metadata": {
      "needs_background": "light"
     },
     "output_type": "display_data"
    }
   ],
   "source": [
    "\n",
    "plt.figure(figsize=(16,8))\n",
    "sns.barplot(x = 'bed_bath_ratio', y = 'logerror', data = train)\n",
    "population_logerror_mean = train.logerror.mean()\n",
    "plt.axhline(population_logerror_mean)\n",
    "plt.show()"
   ]
  },
  {
   "cell_type": "code",
   "execution_count": 54,
   "id": "ade38820",
   "metadata": {},
   "outputs": [
    {
     "name": "stdout",
     "output_type": "stream",
     "text": [
      "r:  0.008497328842119659 p:  0.17430676524774985\n"
     ]
    }
   ],
   "source": [
    "test_results = stats.pearsonr(train.logerror, train.bed_bath_ratio)\n",
    "r, p = test_results\n",
    "print(\"r: \", r, \"p: \", p)"
   ]
  },
  {
   "cell_type": "markdown",
   "id": "afb3f09b",
   "metadata": {},
   "source": [
    "# lot_dollar_sqft affect logerror"
   ]
  },
  {
   "cell_type": "code",
   "execution_count": 81,
   "id": "081b89f1",
   "metadata": {},
   "outputs": [
    {
     "data": {
      "image/png": "[encoded data removed]",
      "text/plain": [
       "<Figure size 432x288 with 1 Axes>"
      ]
     },
     "metadata": {
      "needs_background": "light"
     },
     "output_type": "display_data"
    }
   ],
   "source": [
    "sns.barplot(x = 'lot_dollar_sqft_bin', y = 'logerror', data = train)\n",
    "population_logerror_mean = train.logerror.mean()\n",
    "plt.axhline(population_logerror_mean)\n",
    "plt.show()"
   ]
  },
  {
   "cell_type": "code",
   "execution_count": 82,
   "id": "4ae3e17f",
   "metadata": {},
   "outputs": [
    {
     "name": "stdout",
     "output_type": "stream",
     "text": [
      "r:  -0.03610964475341162 p:  7.707134037995697e-09\n"
     ]
    }
   ],
   "source": [
    "test_results = stats.pearsonr(train.logerror, train.lot_dollar_sqft_bin)\n",
    "r, p = test_results\n",
    "print(\"r: \", r, \"p: \", p)"
   ]
  },
  {
   "cell_type": "code",
   "execution_count": null,
   "id": "35013b76",
   "metadata": {},
   "outputs": [],
   "source": []
  },
  {
   "cell_type": "code",
   "execution_count": null,
   "id": "de60601e",
   "metadata": {},
   "outputs": [],
   "source": []
  },
  {
   "cell_type": "markdown",
   "id": "92eb7467",
   "metadata": {},
   "source": [
    "# Scaling Stuff"
   ]
  },
  {
   "cell_type": "code",
   "execution_count": 84,
   "id": "892546d5",
   "metadata": {},
   "outputs": [],
   "source": [
    "X_train = partitions[1]\n",
    "\n",
    "# Dropping Unneeded features\n",
    "#X_train = train.drop(columns = ['county', 'bathrooms', 'bedrooms', 'latitude', 'longitude',\n",
    "#                               'lotsizesquarefeet', 'landtaxvaluedollarcnt', 'taxamount',\n",
    "#                               'LA_County', 'Orange_County', 'Ventura_County', 'area',\n",
    "#                                'age_bins', 'acres_bin', 'logerror'])\n",
    "# changed area for bed_bath_ratio\n",
    "X_train = train.drop(columns = ['logerror'])\n",
    "# Set scaler\n",
    "scaler = MinMaxScaler(copy=True)\n",
    "x_train_scaled = scaler.fit_transform(X_train)\n",
    "\n",
    "x_train_scaled = pd.DataFrame(x_train_scaled, columns = X_train.columns.to_list())"
   ]
  },
  {
   "cell_type": "markdown",
   "id": "988b1748",
   "metadata": {},
   "source": [
    "# Finding the best features to use"
   ]
  },
  {
   "cell_type": "code",
   "execution_count": 86,
   "id": "c9510387",
   "metadata": {},
   "outputs": [
    {
     "data": {
      "text/plain": [
       "['bedrooms',\n",
       " 'latitude',\n",
       " 'age',\n",
       " 'age_bins',\n",
       " 'land_dollar_per_sqft',\n",
       " 'lot_dollar_sqft_bin']"
      ]
     },
     "execution_count": 86,
     "metadata": {},
     "output_type": "execute_result"
    }
   ],
   "source": [
    "y_train = partitions[2]\n",
    "\n",
    "# initialize the ML algorithm\n",
    "lm = LinearRegression()\n",
    "\n",
    "# create the rfe object, indicating the ML object (lm) and the number of features I want to end up with. \n",
    "rfe = RFE(lm, 6)\n",
    "\n",
    "# fit the data using RFE\n",
    "rfe.fit(x_train_scaled,y_train)  \n",
    "\n",
    "# get the mask of the columns selected\n",
    "feature_mask = rfe.support_\n",
    "\n",
    "# get list of the column names. \n",
    "rfe_feature = x_train_scaled.iloc[:,feature_mask].columns.tolist()\n",
    "\n",
    "rfe_feature"
   ]
  },
  {
   "cell_type": "code",
   "execution_count": 151,
   "id": "c655ed34",
   "metadata": {},
   "outputs": [
    {
     "data": {
      "text/html": [
       "<div>\n",
       "<style scoped>\n",
       "    .dataframe tbody tr th:only-of-type {\n",
       "        vertical-align: middle;\n",
       "    }\n",
       "\n",
       "    .dataframe tbody tr th {\n",
       "        vertical-align: top;\n",
       "    }\n",
       "\n",
       "    .dataframe thead th {\n",
       "        text-align: right;\n",
       "    }\n",
       "</style>\n",
       "<table border=\"1\" class=\"dataframe\">\n",
       "  <thead>\n",
       "    <tr style=\"text-align: right;\">\n",
       "      <th></th>\n",
       "      <th>bathrooms</th>\n",
       "      <th>bedrooms</th>\n",
       "      <th>area</th>\n",
       "      <th>county</th>\n",
       "      <th>latitude</th>\n",
       "      <th>longitude</th>\n",
       "      <th>lotsizesquarefeet</th>\n",
       "      <th>tax_value</th>\n",
       "      <th>landtaxvaluedollarcnt</th>\n",
       "      <th>taxamount</th>\n",
       "      <th>LA_County</th>\n",
       "      <th>Orange_County</th>\n",
       "      <th>Ventura_County</th>\n",
       "      <th>age</th>\n",
       "      <th>acres</th>\n",
       "      <th>bed_bath_ratio</th>\n",
       "      <th>age_bins</th>\n",
       "      <th>acres_bin</th>\n",
       "    </tr>\n",
       "  </thead>\n",
       "  <tbody>\n",
       "    <tr>\n",
       "      <th>62952</th>\n",
       "      <td>2.0</td>\n",
       "      <td>3.0</td>\n",
       "      <td>1910.0</td>\n",
       "      <td>6037.0</td>\n",
       "      <td>34141135.0</td>\n",
       "      <td>-118069733.0</td>\n",
       "      <td>14690.0</td>\n",
       "      <td>84943.0</td>\n",
       "      <td>34939.0</td>\n",
       "      <td>1358.67</td>\n",
       "      <td>1</td>\n",
       "      <td>0</td>\n",
       "      <td>0</td>\n",
       "      <td>87</td>\n",
       "      <td>0.337236</td>\n",
       "      <td>1.500000</td>\n",
       "      <td>0.600</td>\n",
       "      <td>0.3</td>\n",
       "    </tr>\n",
       "    <tr>\n",
       "      <th>18519</th>\n",
       "      <td>3.0</td>\n",
       "      <td>5.0</td>\n",
       "      <td>2965.0</td>\n",
       "      <td>6037.0</td>\n",
       "      <td>34116699.0</td>\n",
       "      <td>-118226054.0</td>\n",
       "      <td>5562.0</td>\n",
       "      <td>439333.0</td>\n",
       "      <td>292893.0</td>\n",
       "      <td>5438.55</td>\n",
       "      <td>1</td>\n",
       "      <td>0</td>\n",
       "      <td>0</td>\n",
       "      <td>41</td>\n",
       "      <td>0.127686</td>\n",
       "      <td>1.666667</td>\n",
       "      <td>0.333</td>\n",
       "      <td>0.1</td>\n",
       "    </tr>\n",
       "    <tr>\n",
       "      <th>31433</th>\n",
       "      <td>3.0</td>\n",
       "      <td>3.0</td>\n",
       "      <td>2388.0</td>\n",
       "      <td>6037.0</td>\n",
       "      <td>33875945.0</td>\n",
       "      <td>-118355497.0</td>\n",
       "      <td>17419.0</td>\n",
       "      <td>350032.0</td>\n",
       "      <td>109462.0</td>\n",
       "      <td>4386.48</td>\n",
       "      <td>1</td>\n",
       "      <td>0</td>\n",
       "      <td>0</td>\n",
       "      <td>33</td>\n",
       "      <td>0.399885</td>\n",
       "      <td>1.000000</td>\n",
       "      <td>0.266</td>\n",
       "      <td>0.3</td>\n",
       "    </tr>\n",
       "    <tr>\n",
       "      <th>2249</th>\n",
       "      <td>2.0</td>\n",
       "      <td>3.0</td>\n",
       "      <td>1353.0</td>\n",
       "      <td>6059.0</td>\n",
       "      <td>33858501.0</td>\n",
       "      <td>-117963533.0</td>\n",
       "      <td>6700.0</td>\n",
       "      <td>129412.0</td>\n",
       "      <td>71148.0</td>\n",
       "      <td>1748.20</td>\n",
       "      <td>0</td>\n",
       "      <td>1</td>\n",
       "      <td>0</td>\n",
       "      <td>67</td>\n",
       "      <td>0.153811</td>\n",
       "      <td>1.500000</td>\n",
       "      <td>0.466</td>\n",
       "      <td>0.2</td>\n",
       "    </tr>\n",
       "    <tr>\n",
       "      <th>24002</th>\n",
       "      <td>1.5</td>\n",
       "      <td>2.0</td>\n",
       "      <td>1024.0</td>\n",
       "      <td>6059.0</td>\n",
       "      <td>33842442.0</td>\n",
       "      <td>-117944157.0</td>\n",
       "      <td>1048.0</td>\n",
       "      <td>201596.0</td>\n",
       "      <td>146657.0</td>\n",
       "      <td>2601.14</td>\n",
       "      <td>0</td>\n",
       "      <td>1</td>\n",
       "      <td>0</td>\n",
       "      <td>58</td>\n",
       "      <td>0.024059</td>\n",
       "      <td>1.333333</td>\n",
       "      <td>0.400</td>\n",
       "      <td>0.0</td>\n",
       "    </tr>\n",
       "  </tbody>\n",
       "</table>\n",
       "</div>"
      ],
      "text/plain": [
       "       bathrooms  bedrooms    area  county    latitude    longitude  \\\n",
       "62952        2.0       3.0  1910.0  6037.0  34141135.0 -118069733.0   \n",
       "18519        3.0       5.0  2965.0  6037.0  34116699.0 -118226054.0   \n",
       "31433        3.0       3.0  2388.0  6037.0  33875945.0 -118355497.0   \n",
       "2249         2.0       3.0  1353.0  6059.0  33858501.0 -117963533.0   \n",
       "24002        1.5       2.0  1024.0  6059.0  33842442.0 -117944157.0   \n",
       "\n",
       "       lotsizesquarefeet  tax_value  landtaxvaluedollarcnt  taxamount  \\\n",
       "62952            14690.0    84943.0                34939.0    1358.67   \n",
       "18519             5562.0   439333.0               292893.0    5438.55   \n",
       "31433            17419.0   350032.0               109462.0    4386.48   \n",
       "2249              6700.0   129412.0                71148.0    1748.20   \n",
       "24002             1048.0   201596.0               146657.0    2601.14   \n",
       "\n",
       "       LA_County  Orange_County  Ventura_County  age     acres  \\\n",
       "62952          1              0               0   87  0.337236   \n",
       "18519          1              0               0   41  0.127686   \n",
       "31433          1              0               0   33  0.399885   \n",
       "2249           0              1               0   67  0.153811   \n",
       "24002          0              1               0   58  0.024059   \n",
       "\n",
       "       bed_bath_ratio  age_bins  acres_bin  \n",
       "62952        1.500000     0.600        0.3  \n",
       "18519        1.666667     0.333        0.1  \n",
       "31433        1.000000     0.266        0.3  \n",
       "2249         1.500000     0.466        0.2  \n",
       "24002        1.333333     0.400        0.0  "
      ]
     },
     "execution_count": 151,
     "metadata": {},
     "output_type": "execute_result"
    }
   ],
   "source": [
    "X_train.head()"
   ]
  },
  {
   "cell_type": "code",
   "execution_count": 152,
   "id": "cb19bbc3",
   "metadata": {},
   "outputs": [
    {
     "data": {
      "text/html": [
       "<div>\n",
       "<style scoped>\n",
       "    .dataframe tbody tr th:only-of-type {\n",
       "        vertical-align: middle;\n",
       "    }\n",
       "\n",
       "    .dataframe tbody tr th {\n",
       "        vertical-align: top;\n",
       "    }\n",
       "\n",
       "    .dataframe thead th {\n",
       "        text-align: right;\n",
       "    }\n",
       "</style>\n",
       "<table border=\"1\" class=\"dataframe\">\n",
       "  <thead>\n",
       "    <tr style=\"text-align: right;\">\n",
       "      <th></th>\n",
       "      <th>bathrooms</th>\n",
       "      <th>bedrooms</th>\n",
       "      <th>area</th>\n",
       "      <th>county</th>\n",
       "      <th>latitude</th>\n",
       "      <th>longitude</th>\n",
       "      <th>lotsizesquarefeet</th>\n",
       "      <th>tax_value</th>\n",
       "      <th>landtaxvaluedollarcnt</th>\n",
       "      <th>taxamount</th>\n",
       "      <th>LA_County</th>\n",
       "      <th>Orange_County</th>\n",
       "      <th>Ventura_County</th>\n",
       "      <th>age</th>\n",
       "      <th>acres</th>\n",
       "      <th>bed_bath_ratio</th>\n",
       "      <th>age_bins</th>\n",
       "      <th>acres_bin</th>\n",
       "    </tr>\n",
       "  </thead>\n",
       "  <tbody>\n",
       "    <tr>\n",
       "      <th>0</th>\n",
       "      <td>0.333333</td>\n",
       "      <td>0.4</td>\n",
       "      <td>0.561482</td>\n",
       "      <td>0.000000</td>\n",
       "      <td>0.581106</td>\n",
       "      <td>0.732089</td>\n",
       "      <td>0.691286</td>\n",
       "      <td>0.076407</td>\n",
       "      <td>0.043242</td>\n",
       "      <td>0.118489</td>\n",
       "      <td>1.0</td>\n",
       "      <td>0.0</td>\n",
       "      <td>0.0</td>\n",
       "      <td>0.727273</td>\n",
       "      <td>0.691286</td>\n",
       "      <td>0.500000</td>\n",
       "      <td>0.727520</td>\n",
       "      <td>1.000000</td>\n",
       "    </tr>\n",
       "    <tr>\n",
       "      <th>1</th>\n",
       "      <td>0.666667</td>\n",
       "      <td>0.8</td>\n",
       "      <td>0.898435</td>\n",
       "      <td>0.000000</td>\n",
       "      <td>0.563372</td>\n",
       "      <td>0.650667</td>\n",
       "      <td>0.248630</td>\n",
       "      <td>0.434103</td>\n",
       "      <td>0.402679</td>\n",
       "      <td>0.479588</td>\n",
       "      <td>1.0</td>\n",
       "      <td>0.0</td>\n",
       "      <td>0.0</td>\n",
       "      <td>0.309091</td>\n",
       "      <td>0.248630</td>\n",
       "      <td>0.571429</td>\n",
       "      <td>0.363760</td>\n",
       "      <td>0.333333</td>\n",
       "    </tr>\n",
       "    <tr>\n",
       "      <th>2</th>\n",
       "      <td>0.666667</td>\n",
       "      <td>0.4</td>\n",
       "      <td>0.714149</td>\n",
       "      <td>0.000000</td>\n",
       "      <td>0.388642</td>\n",
       "      <td>0.583245</td>\n",
       "      <td>0.823626</td>\n",
       "      <td>0.343969</td>\n",
       "      <td>0.147083</td>\n",
       "      <td>0.386473</td>\n",
       "      <td>1.0</td>\n",
       "      <td>0.0</td>\n",
       "      <td>0.0</td>\n",
       "      <td>0.236364</td>\n",
       "      <td>0.823626</td>\n",
       "      <td>0.285714</td>\n",
       "      <td>0.272480</td>\n",
       "      <td>1.000000</td>\n",
       "    </tr>\n",
       "    <tr>\n",
       "      <th>3</th>\n",
       "      <td>0.333333</td>\n",
       "      <td>0.4</td>\n",
       "      <td>0.383584</td>\n",
       "      <td>0.297297</td>\n",
       "      <td>0.375982</td>\n",
       "      <td>0.787405</td>\n",
       "      <td>0.303816</td>\n",
       "      <td>0.121291</td>\n",
       "      <td>0.093696</td>\n",
       "      <td>0.152965</td>\n",
       "      <td>0.0</td>\n",
       "      <td>1.0</td>\n",
       "      <td>0.0</td>\n",
       "      <td>0.545455</td>\n",
       "      <td>0.303816</td>\n",
       "      <td>0.500000</td>\n",
       "      <td>0.544959</td>\n",
       "      <td>0.666667</td>\n",
       "    </tr>\n",
       "    <tr>\n",
       "      <th>4</th>\n",
       "      <td>0.166667</td>\n",
       "      <td>0.2</td>\n",
       "      <td>0.278505</td>\n",
       "      <td>0.297297</td>\n",
       "      <td>0.364327</td>\n",
       "      <td>0.797497</td>\n",
       "      <td>0.029727</td>\n",
       "      <td>0.194148</td>\n",
       "      <td>0.198911</td>\n",
       "      <td>0.228457</td>\n",
       "      <td>0.0</td>\n",
       "      <td>1.0</td>\n",
       "      <td>0.0</td>\n",
       "      <td>0.463636</td>\n",
       "      <td>0.029727</td>\n",
       "      <td>0.428571</td>\n",
       "      <td>0.455041</td>\n",
       "      <td>0.000000</td>\n",
       "    </tr>\n",
       "  </tbody>\n",
       "</table>\n",
       "</div>"
      ],
      "text/plain": [
       "   bathrooms  bedrooms      area    county  latitude  longitude  \\\n",
       "0   0.333333       0.4  0.561482  0.000000  0.581106   0.732089   \n",
       "1   0.666667       0.8  0.898435  0.000000  0.563372   0.650667   \n",
       "2   0.666667       0.4  0.714149  0.000000  0.388642   0.583245   \n",
       "3   0.333333       0.4  0.383584  0.297297  0.375982   0.787405   \n",
       "4   0.166667       0.2  0.278505  0.297297  0.364327   0.797497   \n",
       "\n",
       "   lotsizesquarefeet  tax_value  landtaxvaluedollarcnt  taxamount  LA_County  \\\n",
       "0           0.691286   0.076407               0.043242   0.118489        1.0   \n",
       "1           0.248630   0.434103               0.402679   0.479588        1.0   \n",
       "2           0.823626   0.343969               0.147083   0.386473        1.0   \n",
       "3           0.303816   0.121291               0.093696   0.152965        0.0   \n",
       "4           0.029727   0.194148               0.198911   0.228457        0.0   \n",
       "\n",
       "   Orange_County  Ventura_County       age     acres  bed_bath_ratio  \\\n",
       "0            0.0             0.0  0.727273  0.691286        0.500000   \n",
       "1            0.0             0.0  0.309091  0.248630        0.571429   \n",
       "2            0.0             0.0  0.236364  0.823626        0.285714   \n",
       "3            1.0             0.0  0.545455  0.303816        0.500000   \n",
       "4            1.0             0.0  0.463636  0.029727        0.428571   \n",
       "\n",
       "   age_bins  acres_bin  \n",
       "0  0.727520   1.000000  \n",
       "1  0.363760   0.333333  \n",
       "2  0.272480   1.000000  \n",
       "3  0.544959   0.666667  \n",
       "4  0.455041   0.000000  "
      ]
     },
     "execution_count": 152,
     "metadata": {},
     "output_type": "execute_result"
    }
   ],
   "source": [
    "x_train_scaled.head()"
   ]
  },
  {
   "cell_type": "code",
   "execution_count": 153,
   "id": "ada25345",
   "metadata": {},
   "outputs": [],
   "source": [
    "rfe_scaled = x_train_scaled[rfe_feature]"
   ]
  },
  {
   "cell_type": "markdown",
   "id": "24691fb9",
   "metadata": {},
   "source": [
    "# Creating base model"
   ]
  },
  {
   "cell_type": "code",
   "execution_count": 157,
   "id": "bd0d45ee",
   "metadata": {},
   "outputs": [
    {
     "data": {
      "text/html": [
       "<div>\n",
       "<style scoped>\n",
       "    .dataframe tbody tr th:only-of-type {\n",
       "        vertical-align: middle;\n",
       "    }\n",
       "\n",
       "    .dataframe tbody tr th {\n",
       "        vertical-align: top;\n",
       "    }\n",
       "\n",
       "    .dataframe thead th {\n",
       "        text-align: right;\n",
       "    }\n",
       "</style>\n",
       "<table border=\"1\" class=\"dataframe\">\n",
       "  <thead>\n",
       "    <tr style=\"text-align: right;\">\n",
       "      <th></th>\n",
       "      <th>bathrooms</th>\n",
       "      <th>bedrooms</th>\n",
       "      <th>area</th>\n",
       "      <th>county</th>\n",
       "      <th>latitude</th>\n",
       "      <th>longitude</th>\n",
       "      <th>lotsizesquarefeet</th>\n",
       "      <th>tax_value</th>\n",
       "      <th>landtaxvaluedollarcnt</th>\n",
       "      <th>taxamount</th>\n",
       "      <th>logerror</th>\n",
       "      <th>LA_County</th>\n",
       "      <th>Orange_County</th>\n",
       "      <th>Ventura_County</th>\n",
       "      <th>age</th>\n",
       "      <th>acres</th>\n",
       "      <th>bed_bath_ratio</th>\n",
       "      <th>age_bins</th>\n",
       "      <th>acres_bin</th>\n",
       "    </tr>\n",
       "  </thead>\n",
       "  <tbody>\n",
       "    <tr>\n",
       "      <th>62952</th>\n",
       "      <td>2.0</td>\n",
       "      <td>3.0</td>\n",
       "      <td>1910.0</td>\n",
       "      <td>6037.0</td>\n",
       "      <td>34141135.0</td>\n",
       "      <td>-118069733.0</td>\n",
       "      <td>14690.0</td>\n",
       "      <td>84943.0</td>\n",
       "      <td>34939.0</td>\n",
       "      <td>1358.67</td>\n",
       "      <td>-0.023357</td>\n",
       "      <td>1</td>\n",
       "      <td>0</td>\n",
       "      <td>0</td>\n",
       "      <td>87</td>\n",
       "      <td>0.337236</td>\n",
       "      <td>1.500000</td>\n",
       "      <td>0.600</td>\n",
       "      <td>0.3</td>\n",
       "    </tr>\n",
       "    <tr>\n",
       "      <th>18519</th>\n",
       "      <td>3.0</td>\n",
       "      <td>5.0</td>\n",
       "      <td>2965.0</td>\n",
       "      <td>6037.0</td>\n",
       "      <td>34116699.0</td>\n",
       "      <td>-118226054.0</td>\n",
       "      <td>5562.0</td>\n",
       "      <td>439333.0</td>\n",
       "      <td>292893.0</td>\n",
       "      <td>5438.55</td>\n",
       "      <td>0.114887</td>\n",
       "      <td>1</td>\n",
       "      <td>0</td>\n",
       "      <td>0</td>\n",
       "      <td>41</td>\n",
       "      <td>0.127686</td>\n",
       "      <td>1.666667</td>\n",
       "      <td>0.333</td>\n",
       "      <td>0.1</td>\n",
       "    </tr>\n",
       "    <tr>\n",
       "      <th>31433</th>\n",
       "      <td>3.0</td>\n",
       "      <td>3.0</td>\n",
       "      <td>2388.0</td>\n",
       "      <td>6037.0</td>\n",
       "      <td>33875945.0</td>\n",
       "      <td>-118355497.0</td>\n",
       "      <td>17419.0</td>\n",
       "      <td>350032.0</td>\n",
       "      <td>109462.0</td>\n",
       "      <td>4386.48</td>\n",
       "      <td>0.139967</td>\n",
       "      <td>1</td>\n",
       "      <td>0</td>\n",
       "      <td>0</td>\n",
       "      <td>33</td>\n",
       "      <td>0.399885</td>\n",
       "      <td>1.000000</td>\n",
       "      <td>0.266</td>\n",
       "      <td>0.3</td>\n",
       "    </tr>\n",
       "    <tr>\n",
       "      <th>2249</th>\n",
       "      <td>2.0</td>\n",
       "      <td>3.0</td>\n",
       "      <td>1353.0</td>\n",
       "      <td>6059.0</td>\n",
       "      <td>33858501.0</td>\n",
       "      <td>-117963533.0</td>\n",
       "      <td>6700.0</td>\n",
       "      <td>129412.0</td>\n",
       "      <td>71148.0</td>\n",
       "      <td>1748.20</td>\n",
       "      <td>-0.002537</td>\n",
       "      <td>0</td>\n",
       "      <td>1</td>\n",
       "      <td>0</td>\n",
       "      <td>67</td>\n",
       "      <td>0.153811</td>\n",
       "      <td>1.500000</td>\n",
       "      <td>0.466</td>\n",
       "      <td>0.2</td>\n",
       "    </tr>\n",
       "    <tr>\n",
       "      <th>24002</th>\n",
       "      <td>1.5</td>\n",
       "      <td>2.0</td>\n",
       "      <td>1024.0</td>\n",
       "      <td>6059.0</td>\n",
       "      <td>33842442.0</td>\n",
       "      <td>-117944157.0</td>\n",
       "      <td>1048.0</td>\n",
       "      <td>201596.0</td>\n",
       "      <td>146657.0</td>\n",
       "      <td>2601.14</td>\n",
       "      <td>-0.066029</td>\n",
       "      <td>0</td>\n",
       "      <td>1</td>\n",
       "      <td>0</td>\n",
       "      <td>58</td>\n",
       "      <td>0.024059</td>\n",
       "      <td>1.333333</td>\n",
       "      <td>0.400</td>\n",
       "      <td>0.0</td>\n",
       "    </tr>\n",
       "  </tbody>\n",
       "</table>\n",
       "</div>"
      ],
      "text/plain": [
       "       bathrooms  bedrooms    area  county    latitude    longitude  \\\n",
       "62952        2.0       3.0  1910.0  6037.0  34141135.0 -118069733.0   \n",
       "18519        3.0       5.0  2965.0  6037.0  34116699.0 -118226054.0   \n",
       "31433        3.0       3.0  2388.0  6037.0  33875945.0 -118355497.0   \n",
       "2249         2.0       3.0  1353.0  6059.0  33858501.0 -117963533.0   \n",
       "24002        1.5       2.0  1024.0  6059.0  33842442.0 -117944157.0   \n",
       "\n",
       "       lotsizesquarefeet  tax_value  landtaxvaluedollarcnt  taxamount  \\\n",
       "62952            14690.0    84943.0                34939.0    1358.67   \n",
       "18519             5562.0   439333.0               292893.0    5438.55   \n",
       "31433            17419.0   350032.0               109462.0    4386.48   \n",
       "2249              6700.0   129412.0                71148.0    1748.20   \n",
       "24002             1048.0   201596.0               146657.0    2601.14   \n",
       "\n",
       "       logerror  LA_County  Orange_County  Ventura_County  age     acres  \\\n",
       "62952 -0.023357          1              0               0   87  0.337236   \n",
       "18519  0.114887          1              0               0   41  0.127686   \n",
       "31433  0.139967          1              0               0   33  0.399885   \n",
       "2249  -0.002537          0              1               0   67  0.153811   \n",
       "24002 -0.066029          0              1               0   58  0.024059   \n",
       "\n",
       "       bed_bath_ratio  age_bins  acres_bin  \n",
       "62952        1.500000     0.600        0.3  \n",
       "18519        1.666667     0.333        0.1  \n",
       "31433        1.000000     0.266        0.3  \n",
       "2249         1.500000     0.466        0.2  \n",
       "24002        1.333333     0.400        0.0  "
      ]
     },
     "execution_count": 157,
     "metadata": {},
     "output_type": "execute_result"
    }
   ],
   "source": [
    "train = partitions[0]\n",
    "train.head()"
   ]
  },
  {
   "cell_type": "code",
   "execution_count": 158,
   "id": "b532cbe4",
   "metadata": {},
   "outputs": [
    {
     "data": {
      "text/html": [
       "<div>\n",
       "<style scoped>\n",
       "    .dataframe tbody tr th:only-of-type {\n",
       "        vertical-align: middle;\n",
       "    }\n",
       "\n",
       "    .dataframe tbody tr th {\n",
       "        vertical-align: top;\n",
       "    }\n",
       "\n",
       "    .dataframe thead th {\n",
       "        text-align: right;\n",
       "    }\n",
       "</style>\n",
       "<table border=\"1\" class=\"dataframe\">\n",
       "  <thead>\n",
       "    <tr style=\"text-align: right;\">\n",
       "      <th></th>\n",
       "      <th>logerror</th>\n",
       "      <th>baseline_mean</th>\n",
       "      <th>baseline_med</th>\n",
       "    </tr>\n",
       "  </thead>\n",
       "  <tbody>\n",
       "    <tr>\n",
       "      <th>62952</th>\n",
       "      <td>-0.023357</td>\n",
       "      <td>0.016591</td>\n",
       "      <td>0.006288</td>\n",
       "    </tr>\n",
       "    <tr>\n",
       "      <th>18519</th>\n",
       "      <td>0.114887</td>\n",
       "      <td>0.016591</td>\n",
       "      <td>0.006288</td>\n",
       "    </tr>\n",
       "    <tr>\n",
       "      <th>31433</th>\n",
       "      <td>0.139967</td>\n",
       "      <td>0.016591</td>\n",
       "      <td>0.006288</td>\n",
       "    </tr>\n",
       "    <tr>\n",
       "      <th>2249</th>\n",
       "      <td>-0.002537</td>\n",
       "      <td>0.016591</td>\n",
       "      <td>0.006288</td>\n",
       "    </tr>\n",
       "    <tr>\n",
       "      <th>24002</th>\n",
       "      <td>-0.066029</td>\n",
       "      <td>0.016591</td>\n",
       "      <td>0.006288</td>\n",
       "    </tr>\n",
       "  </tbody>\n",
       "</table>\n",
       "</div>"
      ],
      "text/plain": [
       "       logerror  baseline_mean  baseline_med\n",
       "62952 -0.023357       0.016591      0.006288\n",
       "18519  0.114887       0.016591      0.006288\n",
       "31433  0.139967       0.016591      0.006288\n",
       "2249  -0.002537       0.016591      0.006288\n",
       "24002 -0.066029       0.016591      0.006288"
      ]
     },
     "execution_count": 158,
     "metadata": {},
     "output_type": "execute_result"
    }
   ],
   "source": [
    "y_train = partitions[2]\n",
    "# Setting y_train to a data frame\n",
    "\n",
    "\n",
    "y_train = pd.DataFrame(y_train)\n",
    "\n",
    "y_train['baseline_mean'] = y_train['logerror'].mean()\n",
    "y_train['baseline_med'] = y_train['logerror'].median()\n",
    "\n",
    "\n",
    "y_train.head()"
   ]
  },
  {
   "cell_type": "code",
   "execution_count": 159,
   "id": "5baaab6a",
   "metadata": {},
   "outputs": [
    {
     "name": "stdout",
     "output_type": "stream",
     "text": [
      "RMSE using Mean \n",
      " Train / In-Sample 0.14874\n",
      "RMSE using Median\n",
      "Train/In-Sample:  0.149\n"
     ]
    }
   ],
   "source": [
    "rmse_train = mean_squared_error(y_train.logerror, y_train.baseline_mean)**(1/2)\n",
    "rmse_train2 = mean_squared_error(y_train.logerror, y_train.baseline_med)**(1/2)\n",
    "\n",
    "print(\"RMSE using Mean \\n Train / In-Sample\", round(rmse_train, 5))\n",
    "print(\"RMSE using Median\\nTrain/In-Sample: \", round(rmse_train2, 3))"
   ]
  },
  {
   "cell_type": "markdown",
   "id": "b289b8ae",
   "metadata": {},
   "source": [
    "# Using Models\n",
    "## OLS MODEL 1 "
   ]
  },
  {
   "cell_type": "code",
   "execution_count": 160,
   "id": "7e25d715",
   "metadata": {},
   "outputs": [
    {
     "name": "stdout",
     "output_type": "stream",
     "text": [
      "RMSE for OLS using LinearRegression\n",
      "Training/In-Sample:  0.14853134400961857\n"
     ]
    }
   ],
   "source": [
    "# create the model object\n",
    "lm = LinearRegression(normalize=True)\n",
    "\n",
    "# fit the model to our training data.\n",
    "# since we have converted it to a dataframe from a series! \n",
    "lm.fit(rfe_scaled, y_train.logerror)\n",
    "\n",
    "# predict train\n",
    "y_train['tax_pred_lm'] = lm.predict(rfe_scaled)\n",
    "\n",
    "# evaluate: rmse\n",
    "rmse_train_ols = mean_squared_error(y_train.logerror, y_train.tax_pred_lm)**(1/2)\n",
    "\n",
    "\n",
    "print(\"RMSE for OLS using LinearRegression\\nTraining/In-Sample: \", rmse_train_ols)"
   ]
  },
  {
   "cell_type": "markdown",
   "id": "3d268088",
   "metadata": {},
   "source": [
    "## Laso"
   ]
  },
  {
   "cell_type": "code",
   "execution_count": 161,
   "id": "79ae595f",
   "metadata": {},
   "outputs": [
    {
     "name": "stdout",
     "output_type": "stream",
     "text": [
      "RMSE for Lasso + Lars\n",
      "Training/In-Sample:  0.14873716094456157\n"
     ]
    }
   ],
   "source": [
    "lars = LassoLars(alpha=1.0, random_state=123)\n",
    "\n",
    "# fit the model to our training data. \n",
    "# since we have converted it to a dataframe from a series! \n",
    "lars.fit(rfe_scaled, y_train.logerror)\n",
    "\n",
    "# predict train\n",
    "y_train['tax_pred_lars'] = lars.predict(rfe_scaled)\n",
    "\n",
    "# evaluate: rmse\n",
    "rmse_train_lars = mean_squared_error(y_train.logerror, y_train.tax_pred_lars)**(1/2)\n",
    "\n",
    "print(\"RMSE for Lasso + Lars\\nTraining/In-Sample: \", rmse_train_lars) "
   ]
  },
  {
   "cell_type": "markdown",
   "id": "dc212699",
   "metadata": {},
   "source": [
    "# Polynomial"
   ]
  },
  {
   "cell_type": "code",
   "execution_count": 162,
   "id": "88708f3c",
   "metadata": {},
   "outputs": [],
   "source": [
    "# make the polynomial features to get a new set of features\n",
    "pf = PolynomialFeatures(degree=2)\n",
    "\n",
    "# fit and transform X_train_scaled\n",
    "X_train_degree2 = pf.fit_transform(rfe_scaled)"
   ]
  },
  {
   "cell_type": "code",
   "execution_count": 164,
   "id": "3956d0cb",
   "metadata": {},
   "outputs": [
    {
     "name": "stdout",
     "output_type": "stream",
     "text": [
      "RMSE for Polynomial Model, degrees=2\n",
      "Training/In-Sample:  0.14835078434057344\n"
     ]
    }
   ],
   "source": [
    "# create the model object\n",
    "lm2 = LinearRegression(normalize=True)\n",
    "\n",
    "# fit the model to our training data.\n",
    "# since we have converted it to a dataframe from a series! \n",
    "lm2.fit(X_train_degree2, y_train.logerror)\n",
    "\n",
    "# predict train\n",
    "y_train['tax_pred_lm2'] = lm2.predict(X_train_degree2)\n",
    "\n",
    "# evaluate: rmse\n",
    "rmse_train_poly = mean_squared_error(y_train.logerror, y_train.tax_pred_lm2)**(1/2)\n",
    "\n",
    "print(\"RMSE for Polynomial Model, degrees=2\\nTraining/In-Sample: \", rmse_train_poly)"
   ]
  },
  {
   "cell_type": "code",
   "execution_count": 165,
   "id": "90339d64",
   "metadata": {},
   "outputs": [
    {
     "name": "stdout",
     "output_type": "stream",
     "text": [
      "Baseline:  0.14873716094456157\n",
      "RMSE OLY:  0.14853134400961857\n",
      "RMSE LASO:  0.14873716094456157\n",
      "RMSE POLY:  0.14835078434057344\n"
     ]
    }
   ],
   "source": [
    "print(\"Baseline: \", rmse_train)\n",
    "\n",
    "print(\"RMSE OLY: \", rmse_train_ols)\n",
    "print(\"RMSE LASO: \", rmse_train_lars)\n",
    "print(\"RMSE POLY: \", rmse_train_poly)"
   ]
  },
  {
   "cell_type": "markdown",
   "id": "f45e4b06",
   "metadata": {},
   "source": [
    "### Takeways from first models w/o cluster features"
   ]
  },
  {
   "cell_type": "markdown",
   "id": "7da15ffc",
   "metadata": {},
   "source": [
    "- Since baseline is 0.16444 based off the features (age, tax_value, area, acres)\n",
    "- We see after running through 3 models OLS, LASO R, and Polynomial models all barely beat the baseline\n",
    "\n",
    "Baseline : 0.16444\n",
    "---------------------------------\n",
    "-- OLS  w/ : 0.16427466848815073\n",
    "\n",
    "-- LASO w/ : 0.16443995174606943\n",
    "\n",
    "-- Poly w/ : 0.16427466848815073\n",
    "\n",
    "- OLS and Poly have a tie for beating BASELINE by about: 0.000165"
   ]
  },
  {
   "cell_type": "markdown",
   "id": "47d8c222",
   "metadata": {},
   "source": [
    "# -----------------------------------------------\n",
    "# -----------------------------------------------\n",
    "# Clustering Again\n",
    "# -----------------------------------------------\n",
    "# -----------------------------------------------"
   ]
  },
  {
   "cell_type": "code",
   "execution_count": 42,
   "id": "4e148d02",
   "metadata": {},
   "outputs": [
    {
     "data": {
      "text/html": [
       "<div>\n",
       "<style scoped>\n",
       "    .dataframe tbody tr th:only-of-type {\n",
       "        vertical-align: middle;\n",
       "    }\n",
       "\n",
       "    .dataframe tbody tr th {\n",
       "        vertical-align: top;\n",
       "    }\n",
       "\n",
       "    .dataframe thead th {\n",
       "        text-align: right;\n",
       "    }\n",
       "</style>\n",
       "<table border=\"1\" class=\"dataframe\">\n",
       "  <thead>\n",
       "    <tr style=\"text-align: right;\">\n",
       "      <th></th>\n",
       "      <th>area</th>\n",
       "      <th>tax_value</th>\n",
       "      <th>age</th>\n",
       "      <th>acres</th>\n",
       "    </tr>\n",
       "  </thead>\n",
       "  <tbody>\n",
       "    <tr>\n",
       "      <th>0</th>\n",
       "      <td>0.685575</td>\n",
       "      <td>0.765358</td>\n",
       "      <td>0.866667</td>\n",
       "      <td>0.555636</td>\n",
       "    </tr>\n",
       "    <tr>\n",
       "      <th>1</th>\n",
       "      <td>0.454921</td>\n",
       "      <td>0.124550</td>\n",
       "      <td>0.590476</td>\n",
       "      <td>0.590344</td>\n",
       "    </tr>\n",
       "    <tr>\n",
       "      <th>2</th>\n",
       "      <td>0.464313</td>\n",
       "      <td>0.728086</td>\n",
       "      <td>0.466667</td>\n",
       "      <td>0.582263</td>\n",
       "    </tr>\n",
       "    <tr>\n",
       "      <th>3</th>\n",
       "      <td>0.519159</td>\n",
       "      <td>0.430171</td>\n",
       "      <td>0.514286</td>\n",
       "      <td>0.936593</td>\n",
       "    </tr>\n",
       "    <tr>\n",
       "      <th>4</th>\n",
       "      <td>0.455297</td>\n",
       "      <td>0.248032</td>\n",
       "      <td>0.647619</td>\n",
       "      <td>0.652196</td>\n",
       "    </tr>\n",
       "  </tbody>\n",
       "</table>\n",
       "</div>"
      ],
      "text/plain": [
       "       area  tax_value       age     acres\n",
       "0  0.685575   0.765358  0.866667  0.555636\n",
       "1  0.454921   0.124550  0.590476  0.590344\n",
       "2  0.464313   0.728086  0.466667  0.582263\n",
       "3  0.519159   0.430171  0.514286  0.936593\n",
       "4  0.455297   0.248032  0.647619  0.652196"
      ]
     },
     "execution_count": 42,
     "metadata": {},
     "output_type": "execute_result"
    }
   ],
   "source": [
    "x_train_scaled.head()"
   ]
  },
  {
   "cell_type": "markdown",
   "id": "a29ed57f",
   "metadata": {},
   "source": [
    "### Create Our Clusters"
   ]
  },
  {
   "cell_type": "code",
   "execution_count": 166,
   "id": "09233e43",
   "metadata": {},
   "outputs": [
    {
     "data": {
      "text/html": [
       "<div>\n",
       "<style scoped>\n",
       "    .dataframe tbody tr th:only-of-type {\n",
       "        vertical-align: middle;\n",
       "    }\n",
       "\n",
       "    .dataframe tbody tr th {\n",
       "        vertical-align: top;\n",
       "    }\n",
       "\n",
       "    .dataframe thead th {\n",
       "        text-align: right;\n",
       "    }\n",
       "</style>\n",
       "<table border=\"1\" class=\"dataframe\">\n",
       "  <thead>\n",
       "    <tr style=\"text-align: right;\">\n",
       "      <th></th>\n",
       "      <th>area</th>\n",
       "      <th>landtaxvaluedollarcnt</th>\n",
       "      <th>taxamount</th>\n",
       "      <th>age</th>\n",
       "      <th>cluster</th>\n",
       "    </tr>\n",
       "  </thead>\n",
       "  <tbody>\n",
       "    <tr>\n",
       "      <th>0</th>\n",
       "      <td>0.561482</td>\n",
       "      <td>0.043242</td>\n",
       "      <td>0.118489</td>\n",
       "      <td>0.727273</td>\n",
       "      <td>2</td>\n",
       "    </tr>\n",
       "    <tr>\n",
       "      <th>1</th>\n",
       "      <td>0.898435</td>\n",
       "      <td>0.402679</td>\n",
       "      <td>0.479588</td>\n",
       "      <td>0.309091</td>\n",
       "      <td>3</td>\n",
       "    </tr>\n",
       "    <tr>\n",
       "      <th>2</th>\n",
       "      <td>0.714149</td>\n",
       "      <td>0.147083</td>\n",
       "      <td>0.386473</td>\n",
       "      <td>0.236364</td>\n",
       "      <td>1</td>\n",
       "    </tr>\n",
       "    <tr>\n",
       "      <th>3</th>\n",
       "      <td>0.383584</td>\n",
       "      <td>0.093696</td>\n",
       "      <td>0.152965</td>\n",
       "      <td>0.545455</td>\n",
       "      <td>0</td>\n",
       "    </tr>\n",
       "    <tr>\n",
       "      <th>4</th>\n",
       "      <td>0.278505</td>\n",
       "      <td>0.198911</td>\n",
       "      <td>0.228457</td>\n",
       "      <td>0.463636</td>\n",
       "      <td>0</td>\n",
       "    </tr>\n",
       "  </tbody>\n",
       "</table>\n",
       "</div>"
      ],
      "text/plain": [
       "       area  landtaxvaluedollarcnt  taxamount       age  cluster\n",
       "0  0.561482               0.043242   0.118489  0.727273        2\n",
       "1  0.898435               0.402679   0.479588  0.309091        3\n",
       "2  0.714149               0.147083   0.386473  0.236364        1\n",
       "3  0.383584               0.093696   0.152965  0.545455        0\n",
       "4  0.278505               0.198911   0.228457  0.463636        0"
      ]
     },
     "execution_count": 166,
     "metadata": {},
     "output_type": "execute_result"
    }
   ],
   "source": [
    "\n",
    "k = 6\n",
    "\n",
    "#cluster_vars = ['age_bins', 'tax_value', 'acres_bin']\n",
    "cluster_vars = ['age', 'acres', 'bed_bath_ratio', 'tax_value']\n",
    "# changed area to bed_bath_ratio\n",
    "cluster_name = 'area_cluster'\n",
    "\n",
    "\n",
    "# Let's move forward with k=5\n",
    "kmeans = KMeans(n_clusters = 6, random_state=420)\n",
    "#kmeans.fit(x_train_scaled)\n",
    "kmeans.fit(rfe_scaled[rfe_feature])\n",
    "\n",
    "# And assign the cluster number to a column on the dataframe\n",
    "rfe_scaled[\"cluster\"] = kmeans.predict(rfe_scaled[rfe_feature])\n",
    "rfe_scaled.head()"
   ]
  },
  {
   "cell_type": "markdown",
   "id": "9cc8b004",
   "metadata": {},
   "source": [
    "## OLS MODEL WITH CLUSTER"
   ]
  },
  {
   "cell_type": "code",
   "execution_count": 170,
   "id": "380317f5",
   "metadata": {},
   "outputs": [
    {
     "name": "stdout",
     "output_type": "stream",
     "text": [
      "RMSE for OLS using LinearRegression\n",
      "Training/In-Sample:  0.1485265208938589\n"
     ]
    }
   ],
   "source": [
    "# Running it with a model again?\n",
    "\n",
    "# create the model object\n",
    "lm = LinearRegression(normalize=True)\n",
    "\n",
    "# fit the model to our training data.\n",
    "# since we have converted it to a dataframe from a series! \n",
    "lm.fit(rfe_scaled, y_train.logerror)\n",
    "\n",
    "# predict train\n",
    "y_train['tax_pred_lm'] = lm.predict(rfe_scaled)\n",
    "\n",
    "# evaluate: rmse\n",
    "rmse_train_ols = mean_squared_error(y_train.logerror, y_train.tax_pred_lm)**(1/2)\n",
    "\n",
    "\n",
    "print(\"RMSE for OLS using LinearRegression\\nTraining/In-Sample: \", rmse_train_ols)"
   ]
  },
  {
   "cell_type": "code",
   "execution_count": null,
   "id": "e25a93bb",
   "metadata": {},
   "outputs": [],
   "source": [
    "RMSE OLY:  0.14853134400961857"
   ]
  },
  {
   "cell_type": "markdown",
   "id": "c0be6694",
   "metadata": {},
   "source": [
    "## LARS MODEL WITH CLUSTER"
   ]
  },
  {
   "cell_type": "code",
   "execution_count": 171,
   "id": "25125880",
   "metadata": {},
   "outputs": [
    {
     "name": "stdout",
     "output_type": "stream",
     "text": [
      "RMSE for Lasso + Lars\n",
      "Training/In-Sample:  0.14873716094456157\n"
     ]
    }
   ],
   "source": [
    "lars = LassoLars(alpha=1.0, random_state=123)\n",
    "\n",
    "# fit the model to our training data. \n",
    "# since we have converted it to a dataframe from a series! \n",
    "lars.fit(rfe_scaled, y_train.logerror)\n",
    "\n",
    "# predict train\n",
    "y_train['tax_pred_lars'] = lars.predict(rfe_scaled)\n",
    "\n",
    "# evaluate: rmse\n",
    "rmse_train_lars = mean_squared_error(y_train.logerror, y_train.tax_pred_lars)**(1/2)\n",
    "\n",
    "print(\"RMSE for Lasso + Lars\\nTraining/In-Sample: \", rmse_train_lars) "
   ]
  },
  {
   "cell_type": "markdown",
   "id": "2e0e76e7",
   "metadata": {},
   "source": [
    "## POLY MODEL WITH CLUSTER"
   ]
  },
  {
   "cell_type": "code",
   "execution_count": 172,
   "id": "95c73611",
   "metadata": {},
   "outputs": [
    {
     "name": "stdout",
     "output_type": "stream",
     "text": [
      "RMSE for Polynomial Model, degrees=2\n",
      "Training/In-Sample:  0.14834016273778589\n"
     ]
    }
   ],
   "source": [
    "# make the polynomial features to get a new set of features\n",
    "pf = PolynomialFeatures(degree=2)\n",
    "\n",
    "# fit and transform X_train_scaled\n",
    "X_train_degree2 = pf.fit_transform(rfe_scaled)\n",
    "\n",
    "# create the model object\n",
    "lm2 = LinearRegression(normalize=True)\n",
    "\n",
    "# fit the model to our training data.\n",
    "# since we have converted it to a dataframe from a series! \n",
    "lm2.fit(X_train_degree2, y_train.logerror)\n",
    "\n",
    "# predict train\n",
    "y_train['tax_pred_lm2'] = lm2.predict(X_train_degree2)\n",
    "\n",
    "# evaluate: rmse\n",
    "rmse_train_poly = mean_squared_error(y_train.logerror, y_train.tax_pred_lm2)**(1/2)\n",
    "\n",
    "print(\"RMSE for Polynomial Model, degrees=2\\nTraining/In-Sample: \", rmse_train_poly)"
   ]
  },
  {
   "cell_type": "markdown",
   "id": "6152e628",
   "metadata": {},
   "source": [
    "### Takeaways w/ cluster feature\n",
    "##### now i used rfe-features instead\n",
    "- Since baseline is 0.14844 based off the features (age, tax_value, area, acres, cluster)\n",
    "- We see after running through 3 models OLS, LASO R, and Polynomial models all barely beat the baseline\n",
    "\n",
    "Baseline : 0.14844\n",
    "---------------------------------\n",
    "-- OLS  w/ : 0.1485265208938589\n",
    "\n",
    "-- LASO w/ : 0.14873716094456157\n",
    "\n",
    "-- Poly w/ : 0.14834016273778589\n",
    "\n",
    "- Poly beating BASELINE by about: 0.0001"
   ]
  },
  {
   "cell_type": "markdown",
   "id": "b7b4af6d",
   "metadata": {},
   "source": [
    "## Testing on validate"
   ]
  },
  {
   "cell_type": "code",
   "execution_count": 179,
   "id": "5df6296a",
   "metadata": {},
   "outputs": [],
   "source": [
    "\n",
    "X_validate = partitions[4]\n",
    "\n",
    "# Dropping Unneeded features\n",
    "#X_train = train.drop(columns = ['county', 'bathrooms', 'bedrooms', 'latitude', 'longitude',\n",
    "#                               'lotsizesquarefeet', 'landtaxvaluedollarcnt', 'taxamount',\n",
    "#                               'LA_County', 'Orange_County', 'Ventura_County', 'area',\n",
    "#                                'age_bins', 'acres_bin', 'logerror'])\n",
    "# changed area for bed_bath_ratio\n",
    "# X_validate = train.drop(columns = ['logerror'])\n",
    "# Set scaler\n",
    "scaler = MinMaxScaler(copy=True)\n",
    "x_validate_scaled = scaler.fit_transform(X_validate)\n",
    "\n",
    "x_validate_scaled = pd.DataFrame(x_validate_scaled, columns = X_validate.columns.to_list())"
   ]
  },
  {
   "cell_type": "code",
   "execution_count": 181,
   "id": "c170f0be",
   "metadata": {},
   "outputs": [],
   "source": [
    "rfe_validate_scaled = x_validate_scaled[rfe_feature]"
   ]
  },
  {
   "cell_type": "code",
   "execution_count": 182,
   "id": "bea8a2d8",
   "metadata": {},
   "outputs": [
    {
     "data": {
      "text/html": [
       "<div>\n",
       "<style scoped>\n",
       "    .dataframe tbody tr th:only-of-type {\n",
       "        vertical-align: middle;\n",
       "    }\n",
       "\n",
       "    .dataframe tbody tr th {\n",
       "        vertical-align: top;\n",
       "    }\n",
       "\n",
       "    .dataframe thead th {\n",
       "        text-align: right;\n",
       "    }\n",
       "</style>\n",
       "<table border=\"1\" class=\"dataframe\">\n",
       "  <thead>\n",
       "    <tr style=\"text-align: right;\">\n",
       "      <th></th>\n",
       "      <th>logerror</th>\n",
       "      <th>baseline_mean</th>\n",
       "      <th>baseline_med</th>\n",
       "    </tr>\n",
       "  </thead>\n",
       "  <tbody>\n",
       "    <tr>\n",
       "      <th>25835</th>\n",
       "      <td>-0.015865</td>\n",
       "      <td>0.01716</td>\n",
       "      <td>0.006564</td>\n",
       "    </tr>\n",
       "    <tr>\n",
       "      <th>13856</th>\n",
       "      <td>0.032065</td>\n",
       "      <td>0.01716</td>\n",
       "      <td>0.006564</td>\n",
       "    </tr>\n",
       "    <tr>\n",
       "      <th>14254</th>\n",
       "      <td>-0.151605</td>\n",
       "      <td>0.01716</td>\n",
       "      <td>0.006564</td>\n",
       "    </tr>\n",
       "    <tr>\n",
       "      <th>28445</th>\n",
       "      <td>0.003786</td>\n",
       "      <td>0.01716</td>\n",
       "      <td>0.006564</td>\n",
       "    </tr>\n",
       "    <tr>\n",
       "      <th>1090</th>\n",
       "      <td>0.007799</td>\n",
       "      <td>0.01716</td>\n",
       "      <td>0.006564</td>\n",
       "    </tr>\n",
       "  </tbody>\n",
       "</table>\n",
       "</div>"
      ],
      "text/plain": [
       "       logerror  baseline_mean  baseline_med\n",
       "25835 -0.015865        0.01716      0.006564\n",
       "13856  0.032065        0.01716      0.006564\n",
       "14254 -0.151605        0.01716      0.006564\n",
       "28445  0.003786        0.01716      0.006564\n",
       "1090   0.007799        0.01716      0.006564"
      ]
     },
     "execution_count": 182,
     "metadata": {},
     "output_type": "execute_result"
    }
   ],
   "source": [
    "y_validate = partitions[5]\n",
    "# Setting y_train to a data frame\n",
    "\n",
    "\n",
    "y_validate = pd.DataFrame(y_validate)\n",
    "\n",
    "y_validate['baseline_mean'] = y_validate['logerror'].mean()\n",
    "y_validate['baseline_med'] = y_validate['logerror'].median()\n",
    "\n",
    "\n",
    "y_validate.head()"
   ]
  },
  {
   "cell_type": "code",
   "execution_count": 183,
   "id": "843f5e2b",
   "metadata": {},
   "outputs": [
    {
     "name": "stdout",
     "output_type": "stream",
     "text": [
      "RMSE using Mean \n",
      " Validate / In-Sample 0.15778\n",
      "RMSE using Median\n",
      "Validate/In-Sample:  0.158\n"
     ]
    }
   ],
   "source": [
    "rmse_validate = mean_squared_error(y_validate.logerror, y_validate.baseline_mean)**(1/2)\n",
    "rmse_validate2 = mean_squared_error(y_validate.logerror, y_validate.baseline_med)**(1/2)\n",
    "\n",
    "print(\"RMSE using Mean \\n Validate / In-Sample\", round(rmse_validate, 5))\n",
    "print(\"RMSE using Median\\nValidate/In-Sample: \", round(rmse_validate2, 3))"
   ]
  },
  {
   "cell_type": "markdown",
   "id": "e7b28106",
   "metadata": {},
   "source": [
    "## Without Clusters Validate"
   ]
  },
  {
   "cell_type": "markdown",
   "id": "9601e224",
   "metadata": {},
   "source": [
    "### W/O Cluster OLS"
   ]
  },
  {
   "cell_type": "code",
   "execution_count": 185,
   "id": "e59ada05",
   "metadata": {},
   "outputs": [
    {
     "name": "stdout",
     "output_type": "stream",
     "text": [
      "RMSE for OLS using LinearRegression\n",
      "Training/In-Sample:  0.15767169963511846\n"
     ]
    }
   ],
   "source": [
    "# create the model object\n",
    "lm = LinearRegression(normalize=True)\n",
    "\n",
    "# fit the model to our training data.\n",
    "# since we have converted it to a dataframe from a series! \n",
    "lm.fit(rfe_validate_scaled, y_validate.logerror)\n",
    "\n",
    "# predict train\n",
    "y_validate['tax_pred_lm'] = lm.predict(rfe_validate_scaled)\n",
    "\n",
    "# evaluate: rmse\n",
    "rmse_train_ols = mean_squared_error(y_validate.logerror, y_validate.tax_pred_lm)**(1/2)\n",
    "\n",
    "\n",
    "print(\"RMSE for OLS using LinearRegression\\nTraining/In-Sample: \", rmse_train_ols)"
   ]
  },
  {
   "cell_type": "markdown",
   "id": "e690f188",
   "metadata": {},
   "source": [
    "### W/O CLuster LARS"
   ]
  },
  {
   "cell_type": "code",
   "execution_count": 186,
   "id": "ce99b331",
   "metadata": {},
   "outputs": [
    {
     "name": "stdout",
     "output_type": "stream",
     "text": [
      "RMSE for Lasso + Lars\n",
      "Training/In-Sample:  0.1577791502206339\n"
     ]
    }
   ],
   "source": [
    "lars = LassoLars(alpha=1.0, random_state=123)\n",
    "\n",
    "# fit the model to our training data. \n",
    "# since we have converted it to a dataframe from a series! \n",
    "lars.fit(rfe_validate_scaled, y_validate.logerror)\n",
    "\n",
    "# predict train\n",
    "y_validate['tax_pred_lars'] = lars.predict(rfe_validate_scaled)\n",
    "\n",
    "# evaluate: rmse\n",
    "rmse_train_lars = mean_squared_error(y_validate.logerror, y_validate.tax_pred_lars)**(1/2)\n",
    "\n",
    "print(\"RMSE for Lasso + Lars\\nTraining/In-Sample: \", rmse_train_lars) "
   ]
  },
  {
   "cell_type": "markdown",
   "id": "7884bfc3",
   "metadata": {},
   "source": [
    "### W/O Clusters Poly"
   ]
  },
  {
   "cell_type": "code",
   "execution_count": 187,
   "id": "e0434627",
   "metadata": {},
   "outputs": [
    {
     "name": "stdout",
     "output_type": "stream",
     "text": [
      "RMSE for Polynomial Model, degrees=2\n",
      "Training/In-Sample:  0.1575182941337037\n"
     ]
    }
   ],
   "source": [
    "# make the polynomial features to get a new set of features\n",
    "pf = PolynomialFeatures(degree=2)\n",
    "\n",
    "# fit and transform X_train_scaled\n",
    "X_validate_degree2 = pf.fit_transform(rfe_validate_scaled)\n",
    "\n",
    "# create the model object\n",
    "lm2 = LinearRegression(normalize=True)\n",
    "\n",
    "# fit the model to our training data.\n",
    "# since we have converted it to a dataframe from a series! \n",
    "lm2.fit(X_validate_degree2, y_validate.logerror)\n",
    "\n",
    "# predict train\n",
    "y_validate['tax_pred_lm2'] = lm2.predict(X_validate_degree2)\n",
    "\n",
    "# evaluate: rmse\n",
    "rmse_train_poly = mean_squared_error(y_validate.logerror, y_validate.tax_pred_lm2)**(1/2)\n",
    "\n",
    "print(\"RMSE for Polynomial Model, degrees=2\\nTraining/In-Sample: \", rmse_train_poly)"
   ]
  },
  {
   "cell_type": "markdown",
   "id": "3badcc53",
   "metadata": {},
   "source": [
    "## W/. Clusters Validate"
   ]
  },
  {
   "cell_type": "markdown",
   "id": "d6b34b82",
   "metadata": {},
   "source": [
    "#### Create Cluster Variable"
   ]
  },
  {
   "cell_type": "code",
   "execution_count": 188,
   "id": "f48485a8",
   "metadata": {},
   "outputs": [
    {
     "data": {
      "text/html": [
       "<div>\n",
       "<style scoped>\n",
       "    .dataframe tbody tr th:only-of-type {\n",
       "        vertical-align: middle;\n",
       "    }\n",
       "\n",
       "    .dataframe tbody tr th {\n",
       "        vertical-align: top;\n",
       "    }\n",
       "\n",
       "    .dataframe thead th {\n",
       "        text-align: right;\n",
       "    }\n",
       "</style>\n",
       "<table border=\"1\" class=\"dataframe\">\n",
       "  <thead>\n",
       "    <tr style=\"text-align: right;\">\n",
       "      <th></th>\n",
       "      <th>area</th>\n",
       "      <th>landtaxvaluedollarcnt</th>\n",
       "      <th>taxamount</th>\n",
       "      <th>age</th>\n",
       "      <th>cluster</th>\n",
       "    </tr>\n",
       "  </thead>\n",
       "  <tbody>\n",
       "    <tr>\n",
       "      <th>0</th>\n",
       "      <td>0.488727</td>\n",
       "      <td>0.064692</td>\n",
       "      <td>0.338361</td>\n",
       "      <td>0.216216</td>\n",
       "      <td>0</td>\n",
       "    </tr>\n",
       "    <tr>\n",
       "      <th>1</th>\n",
       "      <td>0.668748</td>\n",
       "      <td>0.847347</td>\n",
       "      <td>0.894129</td>\n",
       "      <td>0.711712</td>\n",
       "      <td>2</td>\n",
       "    </tr>\n",
       "    <tr>\n",
       "      <th>2</th>\n",
       "      <td>0.318071</td>\n",
       "      <td>0.121039</td>\n",
       "      <td>0.231864</td>\n",
       "      <td>0.324324</td>\n",
       "      <td>0</td>\n",
       "    </tr>\n",
       "    <tr>\n",
       "      <th>3</th>\n",
       "      <td>0.196323</td>\n",
       "      <td>0.704315</td>\n",
       "      <td>0.527908</td>\n",
       "      <td>0.630631</td>\n",
       "      <td>5</td>\n",
       "    </tr>\n",
       "    <tr>\n",
       "      <th>4</th>\n",
       "      <td>0.805064</td>\n",
       "      <td>0.031949</td>\n",
       "      <td>0.118641</td>\n",
       "      <td>0.459459</td>\n",
       "      <td>3</td>\n",
       "    </tr>\n",
       "  </tbody>\n",
       "</table>\n",
       "</div>"
      ],
      "text/plain": [
       "       area  landtaxvaluedollarcnt  taxamount       age  cluster\n",
       "0  0.488727               0.064692   0.338361  0.216216        0\n",
       "1  0.668748               0.847347   0.894129  0.711712        2\n",
       "2  0.318071               0.121039   0.231864  0.324324        0\n",
       "3  0.196323               0.704315   0.527908  0.630631        5\n",
       "4  0.805064               0.031949   0.118641  0.459459        3"
      ]
     },
     "execution_count": 188,
     "metadata": {},
     "output_type": "execute_result"
    }
   ],
   "source": [
    "\n",
    "k = 6\n",
    "\n",
    "#cluster_vars = ['age_bins', 'tax_value', 'acres_bin']\n",
    "cluster_vars = ['age', 'acres', 'bed_bath_ratio', 'tax_value']\n",
    "# changed area to bed_bath_ratio\n",
    "cluster_name = 'area_cluster'\n",
    "\n",
    "\n",
    "# Let's move forward with k=5\n",
    "kmeans = KMeans(n_clusters = 6, random_state=420)\n",
    "#kmeans.fit(x_train_scaled)\n",
    "kmeans.fit(rfe_validate_scaled[rfe_feature])\n",
    "\n",
    "# And assign the cluster number to a column on the dataframe\n",
    "rfe_validate_scaled[\"cluster\"] = kmeans.predict(rfe_validate_scaled[rfe_feature])\n",
    "rfe_validate_scaled.head()"
   ]
  },
  {
   "cell_type": "markdown",
   "id": "0c45ecd4",
   "metadata": {},
   "source": [
    "### OLS w/ cluster"
   ]
  },
  {
   "cell_type": "code",
   "execution_count": 189,
   "id": "13b39afa",
   "metadata": {},
   "outputs": [
    {
     "name": "stdout",
     "output_type": "stream",
     "text": [
      "RMSE for OLS using LinearRegression\n",
      "Training/In-Sample:  0.15767124803775276\n"
     ]
    }
   ],
   "source": [
    "# Running it with a model again?\n",
    "\n",
    "# create the model object\n",
    "lm = LinearRegression(normalize=True)\n",
    "\n",
    "# fit the model to our training data.\n",
    "# since we have converted it to a dataframe from a series! \n",
    "lm.fit(rfe_validate_scaled, y_validate.logerror)\n",
    "\n",
    "# predict train\n",
    "y_validate['tax_pred_lm'] = lm.predict(rfe_validate_scaled)\n",
    "\n",
    "# evaluate: rmse\n",
    "rmse_train_ols = mean_squared_error(y_validate.logerror, y_validate.tax_pred_lm)**(1/2)\n",
    "\n",
    "\n",
    "print(\"RMSE for OLS using LinearRegression\\nTraining/In-Sample: \", rmse_train_ols)"
   ]
  },
  {
   "cell_type": "code",
   "execution_count": 190,
   "id": "ee7d3c9d",
   "metadata": {},
   "outputs": [
    {
     "name": "stdout",
     "output_type": "stream",
     "text": [
      "RMSE for Lasso + Lars\n",
      "Training/In-Sample:  0.1577791502206339\n"
     ]
    }
   ],
   "source": [
    "lars = LassoLars(alpha=1.0, random_state=123)\n",
    "\n",
    "# fit the model to our training data. \n",
    "# since we have converted it to a dataframe from a series! \n",
    "lars.fit(rfe_validate_scaled, y_validate.logerror)\n",
    "\n",
    "# predict train\n",
    "y_validate['tax_pred_lars'] = lars.predict(rfe_validate_scaled)\n",
    "\n",
    "# evaluate: rmse\n",
    "rmse_train_lars = mean_squared_error(y_validate.logerror, y_validate.tax_pred_lars)**(1/2)\n",
    "\n",
    "print(\"RMSE for Lasso + Lars\\nTraining/In-Sample: \", rmse_train_lars) "
   ]
  },
  {
   "cell_type": "code",
   "execution_count": 191,
   "id": "8cc222b9",
   "metadata": {},
   "outputs": [
    {
     "name": "stdout",
     "output_type": "stream",
     "text": [
      "RMSE for Polynomial Model, degrees=2\n",
      "Training/In-Sample:  0.1575063766843707\n"
     ]
    }
   ],
   "source": [
    "# make the polynomial features to get a new set of features\n",
    "pf = PolynomialFeatures(degree=2)\n",
    "\n",
    "# fit and transform X_train_scaled\n",
    "X_validate_degree2 = pf.fit_transform(rfe_validate_scaled)\n",
    "\n",
    "# create the model object\n",
    "lm2 = LinearRegression(normalize=True)\n",
    "\n",
    "# fit the model to our training data.\n",
    "# since we have converted it to a dataframe from a series! \n",
    "lm2.fit(X_validate_degree2, y_validate.logerror)\n",
    "\n",
    "# predict train\n",
    "y_validate['tax_pred_lm2'] = lm2.predict(X_validate_degree2)\n",
    "\n",
    "# evaluate: rmse\n",
    "rmse_train_poly = mean_squared_error(y_validate.logerror, y_validate.tax_pred_lm2)**(1/2)\n",
    "\n",
    "print(\"RMSE for Polynomial Model, degrees=2\\nTraining/In-Sample: \", rmse_train_poly)"
   ]
  },
  {
   "cell_type": "markdown",
   "id": "db527189",
   "metadata": {},
   "source": [
    "## Takeaway Polynomial is the best model"
   ]
  },
  {
   "cell_type": "code",
   "execution_count": 192,
   "id": "7ef44f9b",
   "metadata": {},
   "outputs": [],
   "source": [
    "\n",
    "X_test = partitions[7]\n",
    "\n",
    "# Dropping Unneeded features\n",
    "#X_train = train.drop(columns = ['county', 'bathrooms', 'bedrooms', 'latitude', 'longitude',\n",
    "#                               'lotsizesquarefeet', 'landtaxvaluedollarcnt', 'taxamount',\n",
    "#                               'LA_County', 'Orange_County', 'Ventura_County', 'area',\n",
    "#                                'age_bins', 'acres_bin', 'logerror'])\n",
    "# changed area for bed_bath_ratio\n",
    "# X_validate = train.drop(columns = ['logerror'])\n",
    "# Set scaler\n",
    "scaler = MinMaxScaler(copy=True)\n",
    "x_test_scaled = scaler.fit_transform(X_test)\n",
    "\n",
    "x_test_scaled = pd.DataFrame(x_test_scaled, columns = X_test.columns.to_list())"
   ]
  },
  {
   "cell_type": "code",
   "execution_count": 193,
   "id": "f67d9cc5",
   "metadata": {},
   "outputs": [],
   "source": [
    "rfe_test_scaled = x_test_scaled[rfe_feature]"
   ]
  },
  {
   "cell_type": "code",
   "execution_count": 194,
   "id": "74d260db",
   "metadata": {},
   "outputs": [
    {
     "data": {
      "text/html": [
       "<div>\n",
       "<style scoped>\n",
       "    .dataframe tbody tr th:only-of-type {\n",
       "        vertical-align: middle;\n",
       "    }\n",
       "\n",
       "    .dataframe tbody tr th {\n",
       "        vertical-align: top;\n",
       "    }\n",
       "\n",
       "    .dataframe thead th {\n",
       "        text-align: right;\n",
       "    }\n",
       "</style>\n",
       "<table border=\"1\" class=\"dataframe\">\n",
       "  <thead>\n",
       "    <tr style=\"text-align: right;\">\n",
       "      <th></th>\n",
       "      <th>logerror</th>\n",
       "      <th>baseline_mean</th>\n",
       "      <th>baseline_med</th>\n",
       "    </tr>\n",
       "  </thead>\n",
       "  <tbody>\n",
       "    <tr>\n",
       "      <th>46865</th>\n",
       "      <td>0.235333</td>\n",
       "      <td>0.014448</td>\n",
       "      <td>0.005255</td>\n",
       "    </tr>\n",
       "    <tr>\n",
       "      <th>23424</th>\n",
       "      <td>0.472950</td>\n",
       "      <td>0.014448</td>\n",
       "      <td>0.005255</td>\n",
       "    </tr>\n",
       "    <tr>\n",
       "      <th>32862</th>\n",
       "      <td>0.020028</td>\n",
       "      <td>0.014448</td>\n",
       "      <td>0.005255</td>\n",
       "    </tr>\n",
       "    <tr>\n",
       "      <th>50972</th>\n",
       "      <td>-0.603977</td>\n",
       "      <td>0.014448</td>\n",
       "      <td>0.005255</td>\n",
       "    </tr>\n",
       "    <tr>\n",
       "      <th>54001</th>\n",
       "      <td>0.006727</td>\n",
       "      <td>0.014448</td>\n",
       "      <td>0.005255</td>\n",
       "    </tr>\n",
       "  </tbody>\n",
       "</table>\n",
       "</div>"
      ],
      "text/plain": [
       "       logerror  baseline_mean  baseline_med\n",
       "46865  0.235333       0.014448      0.005255\n",
       "23424  0.472950       0.014448      0.005255\n",
       "32862  0.020028       0.014448      0.005255\n",
       "50972 -0.603977       0.014448      0.005255\n",
       "54001  0.006727       0.014448      0.005255"
      ]
     },
     "execution_count": 194,
     "metadata": {},
     "output_type": "execute_result"
    }
   ],
   "source": [
    "y_test = partitions[8]\n",
    "# Setting y_train to a data frame\n",
    "\n",
    "\n",
    "y_test = pd.DataFrame(y_test)\n",
    "\n",
    "y_test['baseline_mean'] = y_test['logerror'].mean()\n",
    "y_test['baseline_med'] = y_test['logerror'].median()\n",
    "\n",
    "\n",
    "y_test.head()"
   ]
  },
  {
   "cell_type": "code",
   "execution_count": 195,
   "id": "df3d1de9",
   "metadata": {},
   "outputs": [
    {
     "name": "stdout",
     "output_type": "stream",
     "text": [
      "RMSE using Mean \n",
      " Validate / In-Sample 0.17389\n",
      "RMSE using Median\n",
      "Validate/In-Sample:  0.174\n"
     ]
    }
   ],
   "source": [
    "rmse_test = mean_squared_error(y_test.logerror, y_test.baseline_mean)**(1/2)\n",
    "rmse_test2 = mean_squared_error(y_test.logerror, y_test.baseline_med)**(1/2)\n",
    "\n",
    "print(\"RMSE using Mean \\n Validate / In-Sample\", round(rmse_test, 5))\n",
    "print(\"RMSE using Median\\nValidate/In-Sample: \", round(rmse_test2, 3))"
   ]
  },
  {
   "cell_type": "code",
   "execution_count": 196,
   "id": "6e9988eb",
   "metadata": {},
   "outputs": [
    {
     "data": {
      "text/html": [
       "<div>\n",
       "<style scoped>\n",
       "    .dataframe tbody tr th:only-of-type {\n",
       "        vertical-align: middle;\n",
       "    }\n",
       "\n",
       "    .dataframe tbody tr th {\n",
       "        vertical-align: top;\n",
       "    }\n",
       "\n",
       "    .dataframe thead th {\n",
       "        text-align: right;\n",
       "    }\n",
       "</style>\n",
       "<table border=\"1\" class=\"dataframe\">\n",
       "  <thead>\n",
       "    <tr style=\"text-align: right;\">\n",
       "      <th></th>\n",
       "      <th>area</th>\n",
       "      <th>landtaxvaluedollarcnt</th>\n",
       "      <th>taxamount</th>\n",
       "      <th>age</th>\n",
       "      <th>cluster</th>\n",
       "    </tr>\n",
       "  </thead>\n",
       "  <tbody>\n",
       "    <tr>\n",
       "      <th>0</th>\n",
       "      <td>0.319581</td>\n",
       "      <td>0.368123</td>\n",
       "      <td>0.358602</td>\n",
       "      <td>0.481818</td>\n",
       "      <td>0</td>\n",
       "    </tr>\n",
       "    <tr>\n",
       "      <th>1</th>\n",
       "      <td>0.172472</td>\n",
       "      <td>0.150249</td>\n",
       "      <td>0.228240</td>\n",
       "      <td>0.690909</td>\n",
       "      <td>2</td>\n",
       "    </tr>\n",
       "    <tr>\n",
       "      <th>2</th>\n",
       "      <td>0.269192</td>\n",
       "      <td>0.345173</td>\n",
       "      <td>0.367258</td>\n",
       "      <td>0.627273</td>\n",
       "      <td>0</td>\n",
       "    </tr>\n",
       "    <tr>\n",
       "      <th>3</th>\n",
       "      <td>0.924586</td>\n",
       "      <td>0.673053</td>\n",
       "      <td>0.760180</td>\n",
       "      <td>0.563636</td>\n",
       "      <td>3</td>\n",
       "    </tr>\n",
       "    <tr>\n",
       "      <th>4</th>\n",
       "      <td>0.474806</td>\n",
       "      <td>0.022500</td>\n",
       "      <td>0.099941</td>\n",
       "      <td>0.509091</td>\n",
       "      <td>2</td>\n",
       "    </tr>\n",
       "  </tbody>\n",
       "</table>\n",
       "</div>"
      ],
      "text/plain": [
       "       area  landtaxvaluedollarcnt  taxamount       age  cluster\n",
       "0  0.319581               0.368123   0.358602  0.481818        0\n",
       "1  0.172472               0.150249   0.228240  0.690909        2\n",
       "2  0.269192               0.345173   0.367258  0.627273        0\n",
       "3  0.924586               0.673053   0.760180  0.563636        3\n",
       "4  0.474806               0.022500   0.099941  0.509091        2"
      ]
     },
     "execution_count": 196,
     "metadata": {},
     "output_type": "execute_result"
    }
   ],
   "source": [
    "k = 6\n",
    "\n",
    "#cluster_vars = ['age_bins', 'tax_value', 'acres_bin']\n",
    "cluster_vars = ['age', 'acres', 'bed_bath_ratio', 'tax_value']\n",
    "# changed area to bed_bath_ratio\n",
    "cluster_name = 'area_cluster'\n",
    "\n",
    "\n",
    "# Let's move forward with k=5\n",
    "kmeans = KMeans(n_clusters = 6, random_state=420)\n",
    "#kmeans.fit(x_train_scaled)\n",
    "kmeans.fit(rfe_test_scaled[rfe_feature])\n",
    "\n",
    "# And assign the cluster number to a column on the dataframe\n",
    "rfe_test_scaled[\"cluster\"] = kmeans.predict(rfe_test_scaled[rfe_feature])\n",
    "rfe_test_scaled.head()"
   ]
  },
  {
   "cell_type": "code",
   "execution_count": 197,
   "id": "a25b1f03",
   "metadata": {},
   "outputs": [
    {
     "name": "stdout",
     "output_type": "stream",
     "text": [
      "RMSE for Polynomial Model, degrees=2\n",
      "Training/In-Sample:  0.17345462138997467\n"
     ]
    }
   ],
   "source": [
    "# make the polynomial features to get a new set of features\n",
    "pf = PolynomialFeatures(degree=2)\n",
    "\n",
    "# fit and transform X_train_scaled\n",
    "X_test_degree2 = pf.fit_transform(rfe_test_scaled)\n",
    "\n",
    "# create the model object\n",
    "lm2 = LinearRegression(normalize=True)\n",
    "\n",
    "# fit the model to our training data.\n",
    "# since we have converted it to a dataframe from a series! \n",
    "lm2.fit(X_test_degree2, y_test.logerror)\n",
    "\n",
    "# predict train\n",
    "y_test['tax_pred_lm2'] = lm2.predict(X_test_degree2)\n",
    "\n",
    "# evaluate: rmse\n",
    "rmse_test_poly = mean_squared_error(y_test.logerror, y_test.tax_pred_lm2)**(1/2)\n",
    "\n",
    "print(\"RMSE for Polynomial Model, degrees=2\\nTraining/In-Sample: \", rmse_test_poly)"
   ]
  },
  {
   "cell_type": "code",
   "execution_count": 211,
   "id": "a5dbbf0c",
   "metadata": {},
   "outputs": [
    {
     "data": {
      "text/plain": [
       "0.0025303352694231755"
      ]
     },
     "execution_count": 211,
     "metadata": {},
     "output_type": "execute_result"
    }
   ],
   "source": [
    " ((0.17389 - 0.17345) / 0.17389)"
   ]
  },
  {
   "cell_type": "code",
   "execution_count": null,
   "id": "76cf7f5b",
   "metadata": {},
   "outputs": [],
   "source": [
    "0.003"
   ]
  }
 ],
 "metadata": {
  "kernelspec": {
   "display_name": "Python 3",
   "language": "python",
   "name": "python3"
  },
  "language_info": {
   "codemirror_mode": {
    "name": "ipython",
    "version": 3
   },
   "file_extension": ".py",
   "mimetype": "text/x-python",
   "name": "python",
   "nbconvert_exporter": "python",
   "pygments_lexer": "ipython3",
   "version": "3.8.8"
  }
 },
 "nbformat": 4,
 "nbformat_minor": 5
}
