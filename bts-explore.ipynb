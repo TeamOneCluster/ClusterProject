{
 "cells": [
  {
   "cell_type": "code",
   "execution_count": 1,
   "id": "2800bf3a",
   "metadata": {},
   "outputs": [],
   "source": [
    "import warnings\n",
    "warnings.filterwarnings(\"ignore\")\n",
    "\n",
    "# Wrangling\n",
    "import pandas as pd\n",
    "import numpy as np\n",
    "from sklearn.model_selection import train_test_split\n",
    "import acquire_PJ\n",
    "import wrangle_PJ\n",
    "import acquire\n",
    "\n",
    "# Visualizing\n",
    "%matplotlib inline\n",
    "import matplotlib.pyplot as plt\n",
    "import seaborn as sns"
   ]
  },
  {
   "cell_type": "code",
   "execution_count": 2,
   "id": "5a02ae3e",
   "metadata": {},
   "outputs": [],
   "source": [
    "b = acquire.get_zillow_data()"
   ]
  },
  {
   "cell_type": "code",
   "execution_count": 3,
   "id": "88c6e2ef",
   "metadata": {},
   "outputs": [
    {
     "name": "stdout",
     "output_type": "stream",
     "text": [
      "<class 'pandas.core.frame.DataFrame'>\n",
      "Int64Index: 77574 entries, 0 to 77573\n",
      "Data columns (total 68 columns):\n",
      " #   Column                        Non-Null Count  Dtype  \n",
      "---  ------                        --------------  -----  \n",
      " 0   id                            77574 non-null  int64  \n",
      " 1   parcelid                      77574 non-null  int64  \n",
      " 2   airconditioningtypeid         25006 non-null  float64\n",
      " 3   architecturalstyletypeid      206 non-null    float64\n",
      " 4   basementsqft                  50 non-null     float64\n",
      " 5   bathroomcnt                   77574 non-null  float64\n",
      " 6   bedroomcnt                    77574 non-null  float64\n",
      " 7   buildingclasstypeid           15 non-null     float64\n",
      " 8   buildingqualitytypeid         49808 non-null  float64\n",
      " 9   calculatedbathnbr             76959 non-null  float64\n",
      " 10  decktypeid                    614 non-null    float64\n",
      " 11  finishedfloor1squarefeet      6035 non-null   float64\n",
      " 12  calculatedfinishedsquarefeet  77374 non-null  float64\n",
      " 13  finishedsquarefeet12          73919 non-null  float64\n",
      " 14  finishedsquarefeet13          42 non-null     float64\n",
      " 15  finishedsquarefeet15          3027 non-null   float64\n",
      " 16  finishedsquarefeet50          6035 non-null   float64\n",
      " 17  finishedsquarefeet6           386 non-null    float64\n",
      " 18  fips                          77574 non-null  float64\n",
      " 19  fireplacecnt                  8287 non-null   float64\n",
      " 20  fullbathcnt                   76959 non-null  float64\n",
      " 21  garagecarcnt                  25517 non-null  float64\n",
      " 22  garagetotalsqft               25517 non-null  float64\n",
      " 23  hashottuborspa                1539 non-null   float64\n",
      " 24  heatingorsystemtypeid         49569 non-null  float64\n",
      " 25  latitude                      77574 non-null  float64\n",
      " 26  longitude                     77574 non-null  float64\n",
      " 27  lotsizesquarefeet             69317 non-null  float64\n",
      " 28  poolcnt                       16173 non-null  float64\n",
      " 29  poolsizesum                   869 non-null    float64\n",
      " 30  pooltypeid10                  465 non-null    float64\n",
      " 31  pooltypeid2                   1074 non-null   float64\n",
      " 32  pooltypeid7                   15078 non-null  float64\n",
      " 33  propertycountylandusecode     77574 non-null  object \n",
      " 34  propertylandusetypeid         77574 non-null  float64\n",
      " 35  propertyzoningdesc            50474 non-null  object \n",
      " 36  rawcensustractandblock        77574 non-null  float64\n",
      " 37  regionidcity                  76102 non-null  float64\n",
      " 38  regionidcounty                77574 non-null  float64\n",
      " 39  regionidneighborhood          30973 non-null  float64\n",
      " 40  regionidzip                   77524 non-null  float64\n",
      " 41  roomcnt                       77574 non-null  float64\n",
      " 42  storytypeid                   50 non-null     float64\n",
      " 43  threequarterbathnbr           10105 non-null  float64\n",
      " 44  typeconstructiontypeid        222 non-null    float64\n",
      " 45  unitcnt                       50702 non-null  float64\n",
      " 46  yardbuildingsqft17            2393 non-null   float64\n",
      " 47  yardbuildingsqft26            70 non-null     float64\n",
      " 48  yearbuilt                     77305 non-null  float64\n",
      " 49  numberofstories               17596 non-null  float64\n",
      " 50  fireplaceflag                 172 non-null    float64\n",
      " 51  structuretaxvaluedollarcnt    77459 non-null  float64\n",
      " 52  taxvaluedollarcnt             77573 non-null  float64\n",
      " 53  assessmentyear                77574 non-null  float64\n",
      " 54  landtaxvaluedollarcnt         77572 non-null  float64\n",
      " 55  taxamount                     77569 non-null  float64\n",
      " 56  taxdelinquencyflag            2900 non-null   object \n",
      " 57  taxdelinquencyyear            2900 non-null   float64\n",
      " 58  censustractandblock           77327 non-null  float64\n",
      " 59  logerror                      77574 non-null  float64\n",
      " 60  transactiondate               77574 non-null  object \n",
      " 61  airconditioningdesc           25006 non-null  object \n",
      " 62  architecturalstyledesc        206 non-null    object \n",
      " 63  buildingclassdesc             15 non-null     object \n",
      " 64  heatingorsystemdesc           49569 non-null  object \n",
      " 65  propertylandusedesc           77574 non-null  object \n",
      " 66  storydesc                     50 non-null     object \n",
      " 67  typeconstructiondesc          222 non-null    object \n",
      "dtypes: float64(55), int64(2), object(11)\n",
      "memory usage: 40.8+ MB\n"
     ]
    }
   ],
   "source": [
    "# Get a peak of the dataframe\n",
    "b.info()"
   ]
  },
  {
   "cell_type": "code",
   "execution_count": 4,
   "id": "a642af78",
   "metadata": {},
   "outputs": [],
   "source": [
    "# Create a function that will remove rows and columns that have missing values past a certain threshold.\n",
    "def handle_missing_values(df, p_row = 0.84, p_col = 0.84):\n",
    "    ''' function which takes in a dataframe, required notnull proportions of non-null rows and columns.\n",
    "    drop the columns and rows columns based on theshold:'''\n",
    "    \n",
    "    #drop columns with nulls\n",
    "    threshold = int(p_col * len(df.index)) # Require that many non-NA values.\n",
    "    df.dropna(axis = 1, thresh = threshold, inplace = True)\n",
    "    \n",
    "    #drop rows with nulls\n",
    "    threshold = int(p_row * len(df.columns)) # Require that many non-NA values.\n",
    "    df.dropna(axis = 0, thresh = threshold, inplace = True)\n",
    "    \n",
    "    \n",
    "    return df"
   ]
  },
  {
   "cell_type": "code",
   "execution_count": 5,
   "id": "de4e31da",
   "metadata": {},
   "outputs": [],
   "source": [
    "b = handle_missing_values(b)"
   ]
  },
  {
   "cell_type": "code",
   "execution_count": 6,
   "id": "027d3cad",
   "metadata": {},
   "outputs": [
    {
     "name": "stdout",
     "output_type": "stream",
     "text": [
      "<class 'pandas.core.frame.DataFrame'>\n",
      "Int64Index: 77474 entries, 0 to 77573\n",
      "Data columns (total 29 columns):\n",
      " #   Column                        Non-Null Count  Dtype  \n",
      "---  ------                        --------------  -----  \n",
      " 0   id                            77474 non-null  int64  \n",
      " 1   parcelid                      77474 non-null  int64  \n",
      " 2   bathroomcnt                   77474 non-null  float64\n",
      " 3   bedroomcnt                    77474 non-null  float64\n",
      " 4   calculatedbathnbr             76959 non-null  float64\n",
      " 5   calculatedfinishedsquarefeet  77373 non-null  float64\n",
      " 6   finishedsquarefeet12          73919 non-null  float64\n",
      " 7   fips                          77474 non-null  float64\n",
      " 8   fullbathcnt                   76959 non-null  float64\n",
      " 9   latitude                      77474 non-null  float64\n",
      " 10  longitude                     77474 non-null  float64\n",
      " 11  lotsizesquarefeet             69300 non-null  float64\n",
      " 12  propertycountylandusecode     77474 non-null  object \n",
      " 13  propertylandusetypeid         77474 non-null  float64\n",
      " 14  rawcensustractandblock        77474 non-null  float64\n",
      " 15  regionidcity                  76014 non-null  float64\n",
      " 16  regionidcounty                77474 non-null  float64\n",
      " 17  regionidzip                   77429 non-null  float64\n",
      " 18  roomcnt                       77474 non-null  float64\n",
      " 19  yearbuilt                     77305 non-null  float64\n",
      " 20  structuretaxvaluedollarcnt    77375 non-null  float64\n",
      " 21  taxvaluedollarcnt             77473 non-null  float64\n",
      " 22  assessmentyear                77474 non-null  float64\n",
      " 23  landtaxvaluedollarcnt         77473 non-null  float64\n",
      " 24  taxamount                     77469 non-null  float64\n",
      " 25  censustractandblock           77248 non-null  float64\n",
      " 26  logerror                      77474 non-null  float64\n",
      " 27  transactiondate               77474 non-null  object \n",
      " 28  propertylandusedesc           77474 non-null  object \n",
      "dtypes: float64(24), int64(2), object(3)\n",
      "memory usage: 17.7+ MB\n"
     ]
    }
   ],
   "source": [
    "b.info()"
   ]
  },
  {
   "cell_type": "code",
   "execution_count": 7,
   "id": "e48cbb7f",
   "metadata": {},
   "outputs": [
    {
     "data": {
      "text/plain": [
       "id                                 0\n",
       "parcelid                           0\n",
       "bathroomcnt                        0\n",
       "bedroomcnt                         0\n",
       "calculatedbathnbr                515\n",
       "calculatedfinishedsquarefeet     101\n",
       "finishedsquarefeet12            3555\n",
       "fips                               0\n",
       "fullbathcnt                      515\n",
       "latitude                           0\n",
       "longitude                          0\n",
       "lotsizesquarefeet               8174\n",
       "propertycountylandusecode          0\n",
       "propertylandusetypeid              0\n",
       "rawcensustractandblock             0\n",
       "regionidcity                    1460\n",
       "regionidcounty                     0\n",
       "regionidzip                       45\n",
       "roomcnt                            0\n",
       "yearbuilt                        169\n",
       "structuretaxvaluedollarcnt        99\n",
       "taxvaluedollarcnt                  1\n",
       "assessmentyear                     0\n",
       "landtaxvaluedollarcnt              1\n",
       "taxamount                          5\n",
       "censustractandblock              226\n",
       "logerror                           0\n",
       "transactiondate                    0\n",
       "propertylandusedesc                0\n",
       "dtype: int64"
      ]
     },
     "execution_count": 7,
     "metadata": {},
     "output_type": "execute_result"
    }
   ],
   "source": [
    "# Take a look at the amount of missing values.\n",
    "b.isnull().sum()"
   ]
  },
  {
   "cell_type": "code",
   "execution_count": 8,
   "id": "e6832cbc",
   "metadata": {},
   "outputs": [],
   "source": [
    "# Create a list of columns to drop.\n",
    "columns_to_drop = ['id','parcelid','calculatedbathnbr','finishedsquarefeet12','fullbathcnt','propertycountylandusecode','propertylandusetypeid','rawcensustractandblock','regionidcity','regionidcounty','regionidzip','structuretaxvaluedollarcnt','censustractandblock','propertylandusedesc']"
   ]
  },
  {
   "cell_type": "code",
   "execution_count": 9,
   "id": "cd263b1b",
   "metadata": {},
   "outputs": [],
   "source": [
    "def drop_columns(df, drop_col):\n",
    "    df = df.drop(columns=drop_col)\n",
    "    return df"
   ]
  },
  {
   "cell_type": "code",
   "execution_count": 10,
   "id": "d21f4f82",
   "metadata": {},
   "outputs": [],
   "source": [
    "b = drop_columns(b, columns_to_drop)"
   ]
  },
  {
   "cell_type": "code",
   "execution_count": 11,
   "id": "2d149b2f",
   "metadata": {},
   "outputs": [
    {
     "data": {
      "text/plain": [
       "id                          0\n",
       "parcelid                    0\n",
       "bathroomcnt                 0\n",
       "bedroomcnt                  0\n",
       "fips                        0\n",
       "latitude                    0\n",
       "longitude                   0\n",
       "lotsizesquarefeet        8174\n",
       "roomcnt                     0\n",
       "yearbuilt                 169\n",
       "taxvaluedollarcnt           1\n",
       "assessmentyear              0\n",
       "landtaxvaluedollarcnt       1\n",
       "taxamount                   5\n",
       "logerror                    0\n",
       "transactiondate             0\n",
       "dtype: int64"
      ]
     },
     "execution_count": 11,
     "metadata": {},
     "output_type": "execute_result"
    }
   ],
   "source": [
    "b.isna().sum()"
   ]
  },
  {
   "cell_type": "code",
   "execution_count": null,
   "id": "39d4de7f",
   "metadata": {},
   "outputs": [],
   "source": [
    "for col in b.columns:\n",
    "    if b[col].isna().sum() > 0:\n",
    "        b[col] = b[col].fillna(value = b[col].mean())\n",
    "        print(b[col])"
   ]
  },
  {
   "cell_type": "code",
   "execution_count": 12,
   "id": "7c9e354b",
   "metadata": {},
   "outputs": [
    {
     "name": "stdout",
     "output_type": "stream",
     "text": [
      "<class 'pandas.core.frame.DataFrame'>\n",
      "Int64Index: 77474 entries, 0 to 77573\n",
      "Data columns (total 16 columns):\n",
      " #   Column                 Non-Null Count  Dtype  \n",
      "---  ------                 --------------  -----  \n",
      " 0   id                     77474 non-null  int64  \n",
      " 1   parcelid               77474 non-null  int64  \n",
      " 2   bathroomcnt            77474 non-null  float64\n",
      " 3   bedroomcnt             77474 non-null  float64\n",
      " 4   fips                   77474 non-null  float64\n",
      " 5   latitude               77474 non-null  float64\n",
      " 6   longitude              77474 non-null  float64\n",
      " 7   lotsizesquarefeet      69300 non-null  float64\n",
      " 8   roomcnt                77474 non-null  float64\n",
      " 9   yearbuilt              77305 non-null  float64\n",
      " 10  taxvaluedollarcnt      77473 non-null  float64\n",
      " 11  assessmentyear         77474 non-null  float64\n",
      " 12  landtaxvaluedollarcnt  77473 non-null  float64\n",
      " 13  taxamount              77469 non-null  float64\n",
      " 14  logerror               77474 non-null  float64\n",
      " 15  transactiondate        77474 non-null  object \n",
      "dtypes: float64(13), int64(2), object(1)\n",
      "memory usage: 10.0+ MB\n"
     ]
    }
   ],
   "source": [
    "b.info()"
   ]
  },
  {
   "cell_type": "code",
   "execution_count": null,
   "id": "d670673c",
   "metadata": {},
   "outputs": [],
   "source": []
  }
 ],
 "metadata": {
  "kernelspec": {
   "display_name": "Python 3",
   "language": "python",
   "name": "python3"
  },
  "language_info": {
   "codemirror_mode": {
    "name": "ipython",
    "version": 3
   },
   "file_extension": ".py",
   "mimetype": "text/x-python",
   "name": "python",
   "nbconvert_exporter": "python",
   "pygments_lexer": "ipython3",
   "version": "3.8.8"
  }
 },
 "nbformat": 4,
 "nbformat_minor": 5
}
