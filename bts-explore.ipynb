{
 "cells": [
  {
   "cell_type": "code",
   "execution_count": 1,
   "id": "2800bf3a",
   "metadata": {},
   "outputs": [],
   "source": [
    "import warnings\n",
    "warnings.filterwarnings(\"ignore\")\n",
    "\n",
    "# Wrangling\n",
    "import pandas as pd\n",
    "import numpy as np\n",
    "from sklearn.model_selection import train_test_split\n",
    "import acquire_PJ\n",
    "import wrangle_PJ\n",
    "\n",
    "# Visualizing\n",
    "%matplotlib inline\n",
    "import matplotlib.pyplot as plt\n",
    "import seaborn as sns"
   ]
  },
  {
   "cell_type": "code",
   "execution_count": 2,
   "id": "5a02ae3e",
   "metadata": {},
   "outputs": [
    {
     "ename": "NameError",
     "evalue": "name 'acquire' is not defined",
     "output_type": "error",
     "traceback": [
      "\u001b[0;31m---------------------------------------------------------------------------\u001b[0m",
      "\u001b[0;31mNameError\u001b[0m                                 Traceback (most recent call last)",
      "\u001b[0;32m/var/folders/jl/s3ptdwdx55v01d2g2wrs7vdc0000gn/T/ipykernel_33027/4137256477.py\u001b[0m in \u001b[0;36m<module>\u001b[0;34m\u001b[0m\n\u001b[0;32m----> 1\u001b[0;31m \u001b[0mzillow\u001b[0m \u001b[0;34m=\u001b[0m \u001b[0macquire\u001b[0m\u001b[0;34m.\u001b[0m\u001b[0mget_zillow_data\u001b[0m\u001b[0;34m(\u001b[0m\u001b[0;34m)\u001b[0m\u001b[0;34m\u001b[0m\u001b[0;34m\u001b[0m\u001b[0m\n\u001b[0m",
      "\u001b[0;31mNameError\u001b[0m: name 'acquire' is not defined"
     ]
    }
   ],
   "source": [
    "zillow = acquire.get_zillow_data()"
   ]
  },
  {
   "cell_type": "code",
   "execution_count": null,
   "id": "88c6e2ef",
   "metadata": {},
   "outputs": [],
   "source": [
    "# Get a peak of the dataframe\n",
    "zillow.info()"
   ]
  },
  {
   "cell_type": "code",
   "execution_count": null,
   "id": "a642af78",
   "metadata": {},
   "outputs": [],
   "source": [
    "# Create a function that will remove rows and columns that have missing values past a certain threshold.\n",
    "def handle_missing_values(df, p_row = 0.84, p_col = 0.84):\n",
    "    ''' function which takes in a dataframe, required notnull proportions of non-null rows and columns.\n",
    "    drop the columns and rows columns based on theshold:'''\n",
    "    \n",
    "    #drop columns with nulls\n",
    "    threshold = int(p_col * len(df.index)) # Require that many non-NA values.\n",
    "    df.dropna(axis = 1, thresh = threshold, inplace = True)\n",
    "    \n",
    "    #drop rows with nulls\n",
    "    threshold = int(p_row * len(df.columns)) # Require that many non-NA values.\n",
    "    df.dropna(axis = 0, thresh = threshold, inplace = True)\n",
    "    \n",
    "    \n",
    "    return df"
   ]
  },
  {
   "cell_type": "code",
   "execution_count": null,
   "id": "de4e31da",
   "metadata": {},
   "outputs": [],
   "source": [
    "b = handle_missing_values(b)"
   ]
  },
  {
   "cell_type": "code",
   "execution_count": null,
   "id": "027d3cad",
   "metadata": {},
   "outputs": [],
   "source": [
    "b.info()"
   ]
  },
  {
   "cell_type": "code",
   "execution_count": null,
   "id": "e48cbb7f",
   "metadata": {},
   "outputs": [],
   "source": [
    "# Take a look at the amount of missing values.\n",
    "b.isnull().sum()"
   ]
  },
  {
   "cell_type": "code",
   "execution_count": null,
   "id": "e6832cbc",
   "metadata": {},
   "outputs": [],
   "source": [
    "# Create a list of columns to drop.\n",
    "columns_to_drop = ['calculatedbathnbr','calculatedfinishedsquarefeet','finishedsquarefeet12','fullbathcnt','propertycountylandusecode','propertylandusetypeid','rawcensustractandblock','regionidcity','regionidcounty','regionidzip','structuretaxvaluedollarcnt','censustractandblock','propertylandusedesc']"
   ]
  },
  {
   "cell_type": "code",
   "execution_count": null,
   "id": "cd263b1b",
   "metadata": {},
   "outputs": [],
   "source": [
    "def drop_columns(df, drop_col):\n",
    "    df = df.drop(columns=drop_col)\n",
    "    return df"
   ]
  },
  {
   "cell_type": "code",
   "execution_count": null,
   "id": "d21f4f82",
   "metadata": {},
   "outputs": [],
   "source": [
    "b = drop_columns(b, columns_to_drop)"
   ]
  },
  {
   "cell_type": "code",
   "execution_count": null,
   "id": "2d149b2f",
   "metadata": {},
   "outputs": [],
   "source": [
    "b.isna().sum()"
   ]
  },
  {
   "cell_type": "code",
   "execution_count": null,
   "id": "39d4de7f",
   "metadata": {},
   "outputs": [],
   "source": [
    "for col in b.columns:\n",
    "    if b[col].isna().sum() > 0:\n",
    "        b[col] = b[col].fillna(value = b[col].mean())\n",
    "        print(b[col])"
   ]
  },
  {
   "cell_type": "code",
   "execution_count": null,
   "id": "7c9e354b",
   "metadata": {},
   "outputs": [],
   "source": []
  }
 ],
 "metadata": {
  "kernelspec": {
   "display_name": "Python 3 (ipykernel)",
   "language": "python",
   "name": "python3"
  },
  "language_info": {
   "codemirror_mode": {
    "name": "ipython",
    "version": 3
   },
   "file_extension": ".py",
   "mimetype": "text/x-python",
   "name": "python",
   "nbconvert_exporter": "python",
   "pygments_lexer": "ipython3",
   "version": "3.8.8"
  }
 },
 "nbformat": 4,
 "nbformat_minor": 5
}
